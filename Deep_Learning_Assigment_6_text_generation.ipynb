{
  "cells": [
    {
      "cell_type": "markdown",
      "metadata": {
        "id": "view-in-github",
        "colab_type": "text"
      },
      "source": [
        "<a href=\"https://colab.research.google.com/github/fangzhongfionaxu/DeepLearning04/blob/main/Deep_Learning_Assigment_6_text_generation.ipynb\" target=\"_parent\"><img src=\"https://colab.research.google.com/assets/colab-badge.svg\" alt=\"Open In Colab\"/></a>"
      ]
    },
    {
      "cell_type": "markdown",
      "metadata": {
        "id": "CtuSrazlNYEL"
      },
      "source": [
        "# Copyright\n",
        "\n",
        "<PRE>\n",
        "Copyright (c) Bálint Gyires-Tóth - All Rights Reserved\n",
        "You may use and modify this code for research and development purpuses.\n",
        "Using this code for educational purposes (self-paced or instructor led) without the permission of the author is prohibited.\n",
        "</PRE>"
      ]
    },
    {
      "cell_type": "markdown",
      "metadata": {
        "id": "vriXNd_nL2q6"
      },
      "source": [
        "# Assignment: RNN text generation with your favorite book\n"
      ]
    },
    {
      "cell_type": "markdown",
      "metadata": {
        "id": "Q5atve1sMH9n"
      },
      "source": [
        "## 1. Dataset\n",
        "- Download your favorite book from https://www.gutenberg.org/\n",
        "- Split into training (80%) and validation (20%)."
      ]
    },
    {
      "cell_type": "code",
      "execution_count": 12,
      "metadata": {
        "colab": {
          "base_uri": "https://localhost:8080/"
        },
        "id": "PIDL4vxsEpIF",
        "outputId": "729a13fd-5222-44a2-e917-f761cd408010"
      },
      "outputs": [
        {
          "output_type": "stream",
          "name": "stdout",
          "text": [
            "Mounted at /content/drive\n"
          ]
        }
      ],
      "source": [
        "import requests\n"
      ]
    },
    {
      "cell_type": "code",
      "execution_count": 15,
      "metadata": {
        "id": "wg5Mnw0wE00v",
        "colab": {
          "base_uri": "https://localhost:8080/"
        },
        "outputId": "f8f632c9-b4e6-473e-d735-aed06213c291"
      },
      "outputs": [
        {
          "output_type": "stream",
          "name": "stdout",
          "text": [
            "﻿The Project Gutenberg eBook of The Wonderful Wizard of Oz\r\n",
            "    \r\n",
            "This ebook is for the use of anyone anywhere in the United States and\r\n",
            "most other parts of the world at no cost and with almost no restrictions\r\n",
            "whatsoever. You may copy it, give it away or re-use it under the terms\r\n",
            "of the Project Gutenberg License included with this ebook or online\r\n",
            "at www.gutenberg.org. If you are not located in the United States,\r\n",
            "you will have to check the laws of the country where you are located\r\n",
            "before usi\n"
          ]
        }
      ],
      "source": [
        "\n",
        "# read file from url\n",
        "url = \"https://www.gutenberg.org/cache/epub/55/pg55.txt\"\n",
        "response = requests.get(url)\n",
        "\n",
        "# Make sure the request was successful\n",
        "if response.status_code == 200:\n",
        "    text = response.text\n",
        "    print(text[:500])  # print first 500 characters\n",
        "else:\n",
        "    print(f\"Failed to download file. Status code: {response.status_code}\")\n"
      ]
    },
    {
      "cell_type": "code",
      "execution_count": 16,
      "metadata": {
        "id": "ugUMaYfUHArn"
      },
      "outputs": [],
      "source": [
        "start_marker = \"*** START OF THE PROJECT GUTENBERG EBOOK PRIDE AND PREJUDICE ***\"\n",
        "end_marker = \"*** END OF THE PROJECT GUTENBERG EBOOK PRIDE AND PREJUDICE ***\"\n",
        "\n",
        "start_index = text.find(start_marker) + len(start_marker)\n",
        "end_index = text.find(end_marker)\n",
        "\n",
        "# only keep the contents of the book, strip away header and footer\n",
        "if start_index != -1 and end_index != -1:\n",
        "    text = text[start_index:end_index].strip()"
      ]
    },
    {
      "cell_type": "code",
      "execution_count": 7,
      "metadata": {
        "id": "079-DkWBIj7Z"
      },
      "outputs": [],
      "source": [
        "train = 0.8\n",
        "val = 0.2"
      ]
    },
    {
      "cell_type": "markdown",
      "metadata": {
        "id": "4eQMcyPgMLJ9"
      },
      "source": [
        "## 2. Preprocessing\n",
        "- Convert text to lowercase.  \n",
        "- Remove punctuation (except basic sentence delimiters).  \n",
        "- Tokenize by words or characters (your choice).  \n",
        "- Build a vocabulary (map each unique word to an integer ID)."
      ]
    },
    {
      "cell_type": "code",
      "source": [
        "import re\n",
        "import tensorflow as tf\n",
        "from tensorflow import keras\n",
        "from tensorflow.keras.preprocessing.text import Tokenizer"
      ],
      "metadata": {
        "id": "6rjjdZExj_XX"
      },
      "execution_count": 18,
      "outputs": []
    },
    {
      "cell_type": "code",
      "execution_count": 46,
      "metadata": {
        "id": "RvXRFVcbMLe9",
        "colab": {
          "base_uri": "https://localhost:8080/"
        },
        "outputId": "51aac041-49c5-4e45-b138-1b4d94924813"
      },
      "outputs": [
        {
          "output_type": "stream",
          "name": "stdout",
          "text": [
            "['bondage', 'poppies.', 'inconvenient', 'cost', 'time.', 'homes.', 'vain', 'wedding', 'witch.', 'giant.', 'license', 'took', 'reach', 'noises', 'pricked', 'carved.', 'slapped', 'woke', 'fool', 'eating']\n",
            "515\n",
            "{'bondage': 0, 'poppies.': 1, 'inconvenient': 2, 'cost': 3, 'time.': 4, 'homes.': 5, 'vain': 6, 'wedding': 7, 'witch.': 8, 'giant.': 9, 'license': 10, 'took': 11, 'reach': 12, 'noises': 13, 'pricked': 14, 'carved.': 15, 'slapped': 16, 'woke': 17, 'fool': 18, 'eating': 19, 'young': 20, 'praying': 21, 'pavement': 22, 'manage': 23, 'surface': 24, 'polishedand': 25, 'gives': 26, 'stop': 27, 'here?': 28, 'weeping': 29, 'disappear': 30, 'delighted': 31, 'other': 32, 'snatched': 33, 'shouldered': 34, 'goodnatured': 35, 'leads': 36, 'invited': 37, 'beetle': 38, 'gloom': 39, 'diamonds.': 40, 'dwells': 41, 'goodbye!': 42, 'be.': 43, 'marry': 44, 'gracious!': 45, 'hush': 46, 'share': 47, 'tint': 48, 'loud': 49, 'stiffen': 50, 'coat': 51, 'white': 52, 'walk': 53, '1.f.': 54, 'robes': 55, 'advanced': 56, 'favor.': 57, 'intended': 58, 'hesitation': 59, 'welcome': 60, 'command': 61, 'charge': 62, 'courtyard': 63, 'scampered': 64, 'ix.': 65, 'people': 66, 'gratefully.': 67, 'violates': 68, 'stake': 69, 'foot.': 70, 'cheerful': 71, 'race': 72, 'royalties': 73, 'glancing': 74, 'ill': 75, 'noon': 76, 'crowd': 77, 'climbing': 78, 'perform': 79, 'kissing': 80, 'xix.': 81, 'cut.': 82, 'asleep.': 83, 'swarm': 84, 'sense': 85, 'east.': 86, 'habit': 87, 'slate': 88, 'teeth': 89, 'introduce': 90, 'beauty?': 91, 'gaunt': 92, 'hastened': 93, 'buzzing': 94, 'xxi.': 95, 'want': 96, 'promised': 97, 'leader.': 98, 'journey': 99, 'dome': 100, 'yesterday.': 101, 'slightest': 102, 'ground.': 103, 'angrily.': 104, 'soldering': 105, 'not.': 106, 'modified': 107, 'shade': 108, 'fright.': 109, 'jump': 110, 'sore': 111, 'fortunate': 112, 'limbs': 113, 'leaned': 114, 'yard': 115, 'only': 116, 'wetting': 117, 'merry': 118, 'thereafter': 119, 'punitive': 120, 'combed': 121, 'charities': 122, 'charm': 123, 'rubbing': 124, 'through.': 125, 'interpreted': 126, 'tinsmiths?': 127, 'king': 128, 'comrades': 129, 'tail.': 130, 'fewer': 131, 'burning': 132, 'identify': 133, 'wind': 134, 'occur': 135, 'coward': 136, 'generations.': 137, 'xvi.': 138, 'wall': 139, 'spent': 140, 'whom': 141, 'jolly': 142, 'deeply': 143, 'cheerfully.': 144, 'myself': 145, 'forehead': 146, 'costs': 147, 'displayed': 148, 'shrieked': 149, 'farmhouse': 150, 'bites.': 151, 'demanded': 152, 'gold': 153, 'stays': 154, 'tint.': 155, 'hungry.': 156, 'vi.': 157, 'beard.': 158, 'mend': 159, 'processing': 160, 'fiercely.': 161, 'lying': 162, 'eventful': 163, 'yourselves': 164, 'slaves': 165, 'timid': 166, 'asked': 167, 'dogs': 168, 'incident.': 169, 'grindstone': 170, 'monkey': 171, 'end': 172, 'than': 173, 'obliged': 174, 'toes.': 175, 'surroundings.': 176, 'changed': 177, 'whisked': 178, 'speed': 179, 'take.': 180, 'steep': 181, 'painted': 182, 'iswhen': 183, 'seven': 184, 'frightening': 185, '1.e.1': 186, 'following': 187, 'meeting': 188, 'smelling': 189, 'omaha': 190, 'someone': 191, 'copying': 192, 'answered': 193, 'presence': 194, 'goldsmith': 195, 'forgot': 196, 'kills': 197, 'turning': 198, 'learn': 199, 'axe': 200, 'sold': 201, 'connected': 202, 'xv.': 203, 'behind': 204, 'goodbye.': 205, 'plenty': 206, 'speak.': 207, 'ruler': 208, 'fix': 209, 'exists': 210, '1.f.3.': 211, 'bother': 212, 'xvii.': 213, 'dorothy': 214, 'wear.': 215, 'cottage': 216, 'returned': 217, '2024': 218, 'tear': 219, 'royalty': 220, 'for': 221, 'raising': 222, 'nest': 223, 'riverside': 224, '29': 225, 'fine': 226, 'disclaimers': 227, 'truck': 228, 'youthank': 229, 'out.': 230, 'guide': 231, 'locked': 232, 'display': 233, 'marble': 234, 'low.': 235, 'general': 236, 'shook': 237, 'electronically': 238, 'horrible': 239, 'joints?': 240, 'minute': 241, 'particular': 242, 'halfway': 243, 'more': 244, 'notifies': 245, 'story.': 246, 'puffing': 247, 'lies.': 248, 'pockets': 249, 'spoken': 250, 'perfume': 251, 'boisterous': 252, 'agreement.': 253, 'add': 254, 'eagerly.': 255, 'dotted': 256, 'foot': 257, 'patches': 258, 'way.': 259, 'filled': 260, 'forty': 261, 'bogs': 262, 'charitable': 263, 'xvi': 264, 'international': 265, 'skinny': 266, 'ahead': 267, 'though': 268, 'shelf': 269, 'basket.': 270, 'cared': 271, 'attack': 272, 'copyright': 273, 'anyone.': 274, 'handed': 275, 'lighter': 276, 'stick': 277, 'stopping': 278, 'sweetly': 279, 'leave.': 280, 'courage.': 281, 'things.': 282, 'will!': 283, 'credit': 284, 'indeed': 285, 'trouble.': 286, 'lost': 287, 'forms': 288, 'seek': 289, 'strange': 290, 'glow': 291, 'towards': 292, 'reproachfully': 293, 'biting': 294, 'common': 295, 'brisk': 296, 'afford': 297, 'hold': 298, 'breakfasted': 299, 'go': 300, 'ropes': 301, 'whisper.': 302, 'bounded': 303, 'original': 304, 'crack!': 305, 'of?': 306, 'much.': 307, 'bed.': 308, 'housework.': 309, 'accidents': 310, 'clatter.': 311, 'startled': 312, 'courage': 313, 'short.': 314, 'castle': 315, 'breeches': 316, 'possibility': 317, 'continued': 318, 'rise': 319, 'xii.': 320, 'lions': 321, 'retorted.': 322, 'current': 323, 'unlink': 324, 'subscribe': 325, 'roadnot': 326, 'chain': 327, 'chase': 328, 'dog!': 329, 'altogether': 330, 'happen': 331, 'enemy': 332, 'derived': 333, 'luscious': 334, 'square': 335, 'methods': 336, 'interview': 337, 'lonely.': 338, 'liability': 339, 'charm.': 340, 'fought': 341, 'come.': 342, 'mishap': 343, 'possessed': 344, 'journey.': 345, 'bright': 346, 'possibly': 347, 'wizard.': 348, 'pay': 349, 'cake': 350, 'places': 351, 'strip': 352, 'flying': 353, 'cyclone': 354, 'wagon': 355, 'refused.': 356, 'fulfillment': 357, 'convert': 358, 'unfriendly': 359, 'throughout': 360, 'hoped': 361, 'come': 362, 'is.': 363, 'tell.': 364, 'twice': 365, 'barn': 366, 'opportunity': 367, 'begins': 368, 'pass': 369, 'entertainment': 370, 'news': 371, 'follow': 372, 'next': 373, 'extent': 374, 'thank': 375, 'pass.': 376, 'lovely': 377, 'grieve': 378, 'bands': 379, 'corporation': 380, 'flames': 381, 'ourselves': 382, 'rapid': 383, 'sure.': 384, 'forest?': 385, 'efforts': 386, 'grimm': 387, 'fourand': 388, 'except': 389, 'stuff': 390, 'would': 391, 'sometime': 392, 'wolves.': 393, 'any': 394, 'stockingfeet.': 395, 'north.': 396, 'stretch': 397, 'patch': 398, 'knew.': 399, 'beckon': 400, 'express': 401, 'company': 402, 'tiger': 403, 'ways': 404, 'dish': 405, 'dearly.': 406, 'useless': 407, 'nonproprietary': 408, 'uneasily.': 409, 'chubby': 410, 'sheds': 411, 'cyclone.': 412, 'kind': 413, 'marriage.': 414, 'lets': 415, 'jewels': 416, 'cannot?': 417, 'put': 418, 'peoplemen': 419, 'depends': 420, 'dancing.': 421, 'imagined.': 422, 'starts': 423, 'anyone': 424, 'strangers': 425, 'party': 426, 'fears': 427, 'accepting': 428, 'pink': 429, 'dorothy.': 430, 'trap': 431, 'fool.': 432, 'indeed.': 433, 'may': 434, 'me.': 435, 'kansas?': 436, 'crowns': 437, 'clouds.': 438, 'rats': 439, 'places.': 440, 'employees': 441, 'card': 442, 'sits': 443, 'today.': 444, 'looked': 445, 'dazzled': 446, 'shrink': 447, 'states': 448, 'reason': 449, 'twisted': 450, 'during': 451, 'literary': 452, 'awayyou': 453, 'grandfather': 454, 'hopped': 455, 'groups.': 456, 'xvii': 457, 'tremendous': 458, 'jumping': 459, 'velvet': 460, 'preferred': 461, 'forward.': 462, 'loving': 463, 'upturned': 464, 'roughly.': 465, 'roadbed.': 466, 'holes': 467, 'expect': 468, 'woolly': 469, 'child?': 470, 'ruler.': 471, 'stepped': 472, 'steal': 473, 'exporting': 474, 'side': 475, 'mantel?': 476, 'thousand': 477, 'calculated': 478, 'fields.': 479, 'screamed': 480, 'dwelt': 481, 'glad': 482, 'carpeted': 483, 'awakened': 484, 'explanation.': 485, 'banks': 486, 'round': 487, 'queenthe': 488, 'popcorn': 489, 'axehandle': 490, 'waked': 491, 'tops.': 492, 'never.': 493, 'rescue': 494, 'spears': 495, 'o': 496, 'dominions.': 497, 'xix': 498, 'shooting': 499, 'hypertext': 500, 'actual': 501, 'depths': 502, 'warranty': 503, 'located': 504, 'needs.': 505, 'respectfully': 506, 'hammerheads': 507, 'tin': 508, 'leg': 509, 'paragraph': 510, 'exclaimed': 511, 'travelers.': 512, 'trees': 513, 'everything.': 514, 'exact': 515, 'crushed': 516, 'picked': 517, 'died': 518, 'dream': 519, 'prohibition': 520, 'drown': 521, 'grateful.': 522, 'taken': 523, 'seeks': 524, 'vegetables': 525, 'wrong.': 526, 'questions': 527, 'hung': 528, 'delicious': 529, 'rolling': 530, 'woman.': 531, 'retained': 532, 'comfortable.': 533, 'needles': 534, 'glance': 535, '1.f.2.': 536, 'refund.': 537, 'ear': 538, 'away': 539, 'leaving': 540, 'chance': 541, 'in': 542, 'speech': 543, 'courageous': 544, 'clapped': 545, 'subject': 546, 'floated': 547, 'equipment': 548, 'wire': 549, 'quickly': 550, 'awfully': 551, 'rusted': 552, 'chased': 553, 'kicked': 554, 'doorstep': 555, 'crowed': 556, 'generally': 557, 'emeralds.': 558, 'motionless': 559, 'hall': 560, 'disappointed': 561, 'oak': 562, 'enchanted': 563, 'carrying': 564, 'leader': 565, 'walking.': 566, 'worked': 567, 'farther': 568, '1.c': 569, 'childs': 570, 'taking': 571, 'plowed': 572, 'just': 573, 'mistaken': 574, 'given.': 575, 'sleeve.': 576, 'spiders': 577, 'bowing': 578, 'do': 579, 'headlong': 580, 'tigers': 581, 'money': 582, 'done': 583, 'water?': 584, 'wish?': 585, 'serve': 586, 'such': 587, 'ant': 588, 'here.': 589, 'brightest': 590, 'policemen': 591, 'sheep': 592, 'jaw': 593, 'hinges': 594, 'thread': 595, 'squirrels.': 596, 'stillness': 597, 'regret.': 598, 'tame?': 599, 'edge': 600, 'fetch': 601, 'country.': 602, 'certainly': 603, 'viii.': 604, 'wherever': 605, 'heartily': 606, 'married': 607, 'dreadfully': 608, 'gas': 609, 'spared': 610, 'place.': 611, 'foxes': 612, 'muddy': 613, 'meadows': 614, 'glinda.': 615, 'ribbon.': 616, 'princes': 617, 'deaf.': 618, 'company.': 619, 'beautifully': 620, 'likely.': 621, 'soon': 622, 'question': 623, 'soul': 624, 'wiggling': 625, 'clean': 626, 'feeling': 627, 'bathed': 628, 'boards': 629, 'never': 630, 'concerning': 631, 'back!': 632, 'secure': 633, 'wistfully': 634, 'sorry': 635, 'redistribute': 636, 'unwise': 637, 'michael': 638, 'son': 639, 'discovered': 640, 'dinner.': 641, 'foolish.': 642, 'feet': 643, 'houses': 644, 'steady': 645, 'threw': 646, 'unhappy': 647, 'shot': 648, 'before?': 649, 'dug': 650, 'mud': 651, 'happily': 652, 'viewing': 653, 'bundle': 654, 'arrive': 655, 'reflections': 656, 'winkies.': 657, 'measure': 658, 'anybody': 659, 'curtsy': 660, 'treatment': 661, 'deserted': 662, 'present': 663, 'certain': 664, 'newsletter': 665, 'older': 666, 'beam': 667, 'dispenses': 668, 'soberly': 669, 'straight': 670, 'wholesome': 671, 'dangerthat': 672, 'howled': 673, 'run': 674, 'these.': 675, 'curiously': 676, 'amazement': 677, 'strap': 678, 'spotted': 679, 'moment': 680, 'minute!': 681, 'oclock': 682, 'fat': 683, 'pail': 684, 'giving': 685, 'yes.': 686, 'gladly': 687, 'ems': 688, 'poles': 689, 'us': 690, 'companion': 691, 'shoulders.': 692, 'brightly.': 693, 'poker!': 694, 'www.gutenberg.orgcontact': 695, 'row': 696, 'destroying': 697, 'easiest': 698, 'over': 699, '501c3': 700, 'prison': 701, 'happen.': 702, 'federal': 703, 'few': 704, 'ringlets': 705, 'kindness': 706, 'agreed': 707, 'chorus.': 708, 'hen': 709, 'pleasantly': 710, 'vexed': 711, 'table.': 712, 'here': 713, 'direct': 714, 'straightway': 715, 'answered.': 716, 'december': 717, 'was.': 718, 'beautiful!': 719, 'sounded': 720, 'thick': 721, 'doors': 722, 'tremble': 723, 'cause.': 724, 'two.': 725, 'ground': 726, 'suspect': 727, 'remedies': 728, 'ruled': 729, 'closed': 730, '1.e.8.': 731, 'box': 732, 'satin': 733, 'rescuing': 734, 'pull': 735, 'indirectly': 736, 'snarling': 737, 'string': 738, 'earth': 739, 'bad!': 740, 'longer': 741, 'turn.': 742, 'breakfast': 743, 'having': 744, 'child!': 745, 'they': 746, 'elbow.': 747, 'specified': 748, 'research.': 749, 'met': 750, 'special': 751, 'enter': 752, 'tomorrow!': 753, 'lies': 754, 'texts': 755, 'plain': 756, 'mourn': 757, 'sad.': 758, 'data': 759, 'enough.': 760, 'box.': 761, 'distributor': 762, 'spires': 763, 'kansasbut': 764, 'rougher': 765, 'codes': 766, 'thing.': 767, 'enjoyed': 768, 'required': 769, 'harmless': 770, 'why': 771, 'longer.': 772, 'thickly': 773, 'hurrying': 774, 'river?': 775, 'andersen': 776, 'signal.': 777, 'family': 778, 'died.': 779, 'eye.': 780, 'agent': 781, 'false': 782, 'butterfly': 783, 'makes': 784, 'pg': 785, 'donate.': 786, 'field': 787, 'politely.': 788, 'match.': 789, 'stately': 790, 'return': 791, 'yet.': 792, 'pin': 793, 'sunshine.': 794, 'playing.': 795, 'leap': 796, 'variety.': 797, 'stumbled': 798, 'five': 799, 'dead': 800, 'water': 801, 'you?': 802, 'history': 803, 'performing': 804, 'deductible': 805, 'ago': 806, 'organized': 807, 'knew': 808, 'shaking': 809, 'said.': 810, 'title': 811, 'mistaken.': 812, 'didnt': 813, 'try': 814, 'frail.': 815, 'supper': 816, 'always': 817, 'modern': 818, 'ray': 819, 'spicy': 820, 'solemnly': 821, 'to': 822, 'cakes': 823, 'fun': 824, 'shore': 825, 'mercy': 826, 'addresses.': 827, 'xiv.': 828, 'wife.': 829, 'boy': 830, 'surrounded': 831, 'tinkled': 832, 'laws.': 833, 'rich': 834, 'each': 835, 'meal.': 836, 'beside': 837, 'built': 838, 'brook': 839, 'very': 840, 'others.': 841, 'remove': 842, 'simply.': 843, 'spray': 844, 'prettily': 845, 'bulged': 846, 'providing': 847, 'disagreeable': 848, 'stern': 849, 'church.': 850, 'waited': 851, 'milking': 852, 'negligence': 853, 'forest.': 854, 'shiver': 855, 'running': 856, 'blossoms': 857, 'passed': 858, 'room': 859, 'marvelous': 860, 'silken': 861, 'understand': 862, 'eggs': 863, 'plenty.': 864, 'yes': 865, 'frocks': 866, 'promotion': 867, 'upset': 868, 'answer.': 869, 'where': 870, 'gay.': 871, 'reunited': 872, 'key.': 873, 'eaten': 874, 'shore.': 875, 'children': 876, 'merrily': 877, 'killed!': 878, 'grass.': 879, 'permanent': 880, 'body.': 881, 'govern': 882, 'withstand': 883, 'somewhere.': 884, 'joyfully.': 885, 'husband': 886, 'ribbon': 887, 'brilliant': 888, 'color': 889, 'thoughtful': 890, 'harnessed': 891, 'an': 892, 'twice.': 893, 'seen': 894, 'wildcat': 895, 'need': 896, 'entered': 897, 'am.': 898, 'told.': 899, '1.b.': 900, 'tools': 901, 'picking': 902, 'certain.': 903, 'stored': 904, 'commanded': 905, 'table': 906, 'sweet': 907, 'think': 908, 'bark': 909, 'him?': 910, 'blocks': 911, 'electronic': 912, 'feasting': 913, 'them': 914, 'fortunately': 915, 'kakke!': 916, 'knocked': 917, 'change.': 918, 'sleeper': 919, 'know': 920, 'loudly': 921, 'life.': 922, 'pots': 923, 'desert.': 924, 'www.gutenberg.orgdonate.': 925, 'spite': 926, 'world.': 927, 'partly': 928, 'law': 929, 'am': 930, 'welltrodden': 931, 'nearing': 932, 'detach': 933, 'amused': 934, 'believe!': 935, 'id': 936, 'smooth': 937, 'morningall': 938, 'managed': 939, 'enjoying': 940, 'profits': 941, 'whirl': 942, 'placed': 943, 'leaves': 944, 'abounding': 945, 'job': 946, 'what!': 947, 'horribly': 948, 'pieces': 949, 'neck.': 950, '1.e.1.': 951, 'assistance': 952, 'make': 953, 'collar': 954, 'is?': 955, 'properly.': 956, 'foundations': 957, 'renamed.': 958, '1.e.3.': 959, 'ever.': 960, 'dishes': 961, 'nose.': 962, 'shall': 963, 'limited': 964, 'comforted.': 965, 'longed': 966, 'motions': 967, 'authors': 968, 'second': 969, 'legs': 970, 'homes': 971, 'brown': 972, 'blood': 973, 'comfort': 974, 'requirements': 975, 'passage': 976, 'intellectual': 977, 'determine': 978, 'friend.': 979, 'fright': 980, 'angry': 981, 'locations': 982, 'arts': 983, 'reading': 984, 'approached': 985, 'pleasure': 986, 'baby': 987, 'man?': 988, 'means': 989, 'allowed': 990, 'swelled': 991, 'near.': 992, 'stopped': 993, 'started': 994, 'idle': 995, 'wink': 996, 'them?': 997, 'wisely': 998, 'dizzy': 999, 'fee': 1000, 'education': 1001, 'contact': 1002, 'accept': 1003, 'swung': 1004, 'problem.': 1005, 'barked.': 1006, 'ceiling.': 1007, 'including': 1008, 'phrase': 1009, 'pretty.': 1010, 'maintaining': 1011, 'yet': 1012, 'space': 1013, 'again!': 1014, 'least': 1015, 'hole?': 1016, 'friendly': 1017, 'disturbed.': 1018, 'yonder': 1019, 'redistribution.': 1020, 'murmur': 1021, 'belongs': 1022, 'learned': 1023, 'unhappy.': 1024, 'moving': 1025, 'swam': 1026, 'china.': 1027, 'myths': 1028, 'got': 1029, 'toward': 1030, 'onelegged': 1031, 'speak?': 1032, 'dried': 1033, 'skin': 1034, '3': 1035, 'hill.': 1036, 'side.': 1037, 'monsters': 1038, 'ozthe': 1039, 'act': 1040, 'broke': 1041, 'wolf': 1042, 'makebelieve': 1043, 'launched': 1044, 'immediately': 1045, 'doubtless': 1046, 'peep': 1047, 'forehead?': 1048, 'performances': 1049, 'fasten': 1050, 'pulled': 1051, 'reality': 1052, 'stout': 1053, 'majesty': 1054, 'length.': 1055, 'void': 1056, 'troubled': 1057, 'explained.': 1058, 'gems': 1059, 'me?': 1060, '1.e.4.': 1061, 'permit': 1062, 'drawn': 1063, 'time': 1064, 'rusts': 1065, 'physical': 1066, 'sighed.': 1067, 'trembling': 1068, 'dignified': 1069, 'lonesome': 1070, 'sleeps': 1071, 'measuring': 1072, 'bald': 1073, 'contented.': 1074, 'discovery': 1075, 'sorceresses': 1076, 'iron': 1077, 'tramping': 1078, 'pole': 1079, 'part': 1080, 'chorus': 1081, 'whatsoever.': 1082, 'chair': 1083, 'so?': 1084, 'pray': 1085, 'transcribe': 1086, 'shrill': 1087, 'winked': 1088, 'spectacles': 1089, 'we!': 1090, 'elbow': 1091, 'terrible.': 1092, 'accessed': 1093, 'glued': 1094, 'mixed': 1095, 'slipped': 1096, 'delightful': 1097, 'darken': 1098, 'mending': 1099, 'from?': 1100, 'let': 1101, 'strips': 1102, 'against': 1103, 'associated': 1104, 'errand': 1105, 'whiskers': 1106, 'chicago': 1107, 'living': 1108, 'joke': 1109, 'trees.': 1110, 'clumsy': 1111, 'guard': 1112, 'hour': 1113, 'permission': 1114, 'queen.': 1115, 'property': 1116, 'invisible': 1117, 'wedding.': 1118, 'despite': 1119, 'unlock': 1120, 'airtight': 1121, 'getting': 1122, 'coated': 1123, 'locks': 1124, 'older.': 1125, 'ended': 1126, '1': 1127, 'diamonds': 1128, 'owns': 1129, 'his': 1130, 'dorothy!': 1131, 'visit': 1132, 'us.': 1133, 'cracks': 1134, 'witch?': 1135, 'rejoicing': 1136, 'indignantly.': 1137, 'imprisoned': 1138, 'surprised': 1139, 'gratefully': 1140, 'xx': 1141, 'castle?': 1142, 'promises': 1143, 'sadly': 1144, 'dragged': 1145, 'heavy': 1146, 'plate': 1147, 'clothed': 1148, 'clusters': 1149, 'sewn': 1150, 'angrier': 1151, 'wonder.': 1152, 'after': 1153, 'countless': 1154, 'counted': 1155, 'grain': 1156, 'remarked': 1157, 'patting': 1158, 'calmly.': 1159, 'dust': 1160, 'child.': 1161, 'building': 1162, 'friends': 1163, 'suddenly': 1164, 'mothers': 1165, 'tugging': 1166, 'hat': 1167, 'oilcan': 1168, 'start?': 1169, 'poppies': 1170, 'breeze': 1171, 'poured': 1172, 'thunder': 1173, 'liked': 1174, 'swept': 1175, 'granted': 1176, 'permitted': 1177, 'nonprofit': 1178, 'he': 1179, 'wellgrown': 1180, 'bug': 1181, 'feet.': 1182, 'heard': 1183, 'gates': 1184, 'introduction': 1185, 'off': 1186, 'chalk': 1187, 'love.': 1188, 'mistake.': 1189, 'carries': 1190, 'sleeping': 1191, 'carefully.': 1192, 'shocked': 1193, 'paid': 1194, 'brooks': 1195, 'eppe': 1196, 'court': 1197, 'shapes.': 1198, 'mice.': 1199, 'instead': 1200, 'middleaged': 1201, 'birds': 1202, 'served': 1203, 'lake': 1204, 'their': 1205, 'dented': 1206, 'bridges': 1207, 'implied': 1208, 'moments': 1209, 'gardens': 1210, 'nicked': 1211, 'whimper': 1212, 'farther.': 1213, 'flowers': 1214, 'quick!': 1215, 'happens': 1216, 'smiling.': 1217, 'surrounds': 1218, 'destroy': 1219, 'do?': 1220, 'pleased.': 1221, 'brains?': 1222, 'day': 1223, 'wiping': 1224, 'road': 1225, 'tinkling': 1226, 'thought.': 1227, 'candy': 1228, 'gift': 1229, 'carpet': 1230, 'knowledge': 1231, 'awake': 1232, 'hundreds': 1233, 'without': 1234, 'thats': 1235, 'work.': 1236, 'weep': 1237, 'blunted': 1238, 'instant': 1239, 'brought.': 1240, 'step.': 1241, 'doorstep.': 1242, 'lady.': 1243, 'creating': 1244, 'ever': 1245, 'defective': 1246, 'deceived': 1247, 'gaze': 1248, 'tree.': 1249, '55': 1250, 'hearts': 1251, 'proof': 1252, 'interested': 1253, 'living.': 1254, 'me!': 1255, 'promptly': 1256, 'volunteer': 1257, 'truly': 1258, 'fed.': 1259, 'glowed': 1260, 'xxiii': 1261, 'doing': 1262, 'green?': 1263, 'waist.': 1264, 'west': 1265, 'fees.': 1266, 'hart': 1267, 'gentlemen': 1268, 'straw.': 1269, 'bucket': 1270, 'making': 1271, 'creature': 1272, 'swallowed': 1273, 'seat': 1274, 'going.': 1275, 'thoughts': 1276, 'nightmares': 1277, 'bringing': 1278, 'lost.': 1279, 'saw': 1280, 'prairies': 1281, 'lawn': 1282, 'handsome': 1283, 'with': 1284, 'brims': 1285, 'palace': 1286, 'waters': 1287, 'everyone': 1288, 'push': 1289, 'rode': 1290, 'dresses': 1291, 'cabbages': 1292, 'forehead.': 1293, 'break': 1294, 'dwellings': 1295, 'rusty': 1296, 'freely': 1297, 'form.': 1298, 'person': 1299, 'blind': 1300, 'ripening': 1301, 'deep': 1302, 'oiled.': 1303, 'next.': 1304, 'respect': 1305, 'creeping': 1306, 'flock': 1307, 'widespread': 1308, 'will': 1309, 'different': 1310, 'binary': 1311, 'hillo': 1312, '1.': 1313, 'there?': 1314, 'tightly': 1315, 'easier': 1316, 'uneven.': 1317, 'smelled': 1318, 'proprietary': 1319, 'once.': 1320, 'ruby': 1321, 'lion': 1322, 'lion.': 1323, 'drawing': 1324, 'pennies.': 1325, 'forget': 1326, 'done.': 1327, 'stuck': 1328, 'earnestly.': 1329, 'bestow': 1330, 'research': 1331, 'particularly': 1332, 'mark': 1333, 'removed.': 1334, 'meant.': 1335, 'then?': 1336, 'support': 1337, 'sort': 1338, 'friend': 1339, 'prairie': 1340, 'joker': 1341, 'errors': 1342, 'instant.': 1343, 'viii': 1344, 'this?': 1345, 'gayelettes': 1346, 'hand': 1347, 'neatly': 1348, 'slowly': 1349, 'disease.': 1350, 'ages': 1351, 'walking': 1352, 'of.': 1353, 'dull': 1354, 'live': 1355, 'leather': 1356, 'perhaps': 1357, 'throne': 1358, 'down': 1359, 'wailing': 1360, 'rejoiced': 1361, 'voice?': 1362, 'desert': 1363, 'cupboard.': 1364, 'thanking': 1365, 'drive.': 1366, 'sober': 1367, 'steps': 1368, 'witches.': 1369, 'clinging': 1370, 'protected': 1371, 'purple': 1372, 'heat': 1373, 'oz': 1374, 'light': 1375, 'bruised': 1376, 'head.': 1377, 'harm': 1378, 'wonderment': 1379, 'snap': 1380, 'moment.': 1381, 'readable': 1382, 'shops': 1383, 'little': 1384, 'glare': 1385, 'color.': 1386, 'rang': 1387, 'ask': 1388, 'offers': 1389, 'wishes': 1390, 'unlocked': 1391, 'file': 1392, '1.d.': 1393, 'listened': 1394, 'cackling': 1395, 'dressed': 1396, 'dear!': 1397, 'council': 1398, 'cyclonein': 1399, 'breathes': 1400, 'band.': 1401, 'small.': 1402, 'why?': 1403, 'kalidahs.': 1404, 'step': 1405, 'sorts.': 1406, 'whimpered': 1407, 'possession.': 1408, 'stinging': 1409, 'wide': 1410, 'bridge': 1411, 'wet': 1412, 'ought': 1413, 'awoke': 1414, 'still.': 1415, 'solely': 1416, 'goes': 1417, 'made': 1418, 'pounding': 1419, '1.e.9.': 1420, 'toto': 1421, '1.e.8': 1422, 'discover': 1423, 'finding': 1424, 'sent': 1425, 'foundation.': 1426, 'anxiously.': 1427, 'used': 1428, 'pack': 1429, 'volunteers': 1430, 'blade': 1431, 'opportunities': 1432, 'lay': 1433, 'kill': 1434, 'rainstorm': 1435, '1.e.7': 1436, 'pains': 1437, 'untiring': 1438, 'costume': 1439, 'saying': 1440, 'nodded': 1441, 'bag.': 1442, 'iv.': 1443, 'fantastic': 1444, 'distribution': 1445, 'parting': 1446, 'nine': 1447, 'fashion': 1448, 'v.': 1449, 'animal': 1450, 'rubies.': 1451, 'deadly': 1452, 'ebook': 1453, 'bent.': 1454, 'on': 1455, 'together.': 1456, 'something': 1457, 'top.': 1458, 'cow?': 1459, 'place': 1460, 'whirling': 1461, 'glances': 1462, 'although': 1463, 'stars': 1464, 'sunbonnet': 1465, 'easily.': 1466, 'below.': 1467, 'cradle.': 1468, 'forever': 1469, 'audience': 1470, 'backs': 1471, 'crawls': 1472, 'wash': 1473, 'country': 1474, 'egg.': 1475, 'house.': 1476, 'firstrate': 1477, 'mention': 1478, 'nearer.': 1479, 'underbrush': 1480, 'included.': 1481, 'washed': 1482, 'within': 1483, 'escape': 1484, 'mass': 1485, 'uncomfortable': 1486, 'breakfast.': 1487, 'after.': 1488, 'closely': 1489, 'evening': 1490, 'pace.': 1491, 'includes': 1492, 'lighted': 1493, 'mouse!': 1494, 'uncle': 1495, 'brave': 1496, 'mended': 1497, '<pad>': 1498, 'bad': 1499, 'holder.': 1500, 'yourself.': 1501, 'branches': 1502, 'meat': 1503, 'distributed': 1504, 'bath.': 1505, 'ungrateful': 1506, 'monstrous': 1507, 'cried': 1508, 'worries': 1509, 'handle': 1510, 'our': 1511, 'purpose.': 1512, 'gravely': 1513, 'face.': 1514, 'foe': 1515, 'fighting': 1516, 'again?': 1517, 'fierce': 1518, 'mighty': 1519, 'rage': 1520, 'happiness': 1521, 'ix': 1522, 'assistance.': 1523, 'stopped.': 1524, 'thankful': 1525, 'rushing': 1526, 'minute.': 1527, 'fast.': 1528, 'mentioned': 1529, 'isnt': 1530, 'failed': 1531, 'paying': 1532, 'waken': 1533, 'driven': 1534, 'peg': 1535, 'supported': 1536, 'prepare': 1537, 'safely': 1538, 'youd': 1539, 'but': 1540, 'outer': 1541, 'suggested': 1542, 'panted': 1543, 'goldheaded': 1544, 'heel': 1545, 'take': 1546, 'starve': 1547, 'came.': 1548, 'swim': 1549, 'castle.': 1550, 'miles': 1551, 'ago.': 1552, 'roar.': 1553, 'flat': 1554, 'deal': 1555, 'neither': 1556, 'whereupon': 1557, 'queen': 1558, 'poor': 1559, 'scarecrow!': 1560, 'noise': 1561, 'kisses.': 1562, 'cozy': 1563, 'along': 1564, 'wardrobe': 1565, 'into': 1566, 'horse?': 1567, 'silks': 1568, 'summon': 1569, 'scream': 1570, 'worse': 1571, 'again.': 1572, 'judged': 1573, 'woods': 1574, 'subjects': 1575, 'jaws.': 1576, 'terms': 1577, 'words.': 1578, 'held': 1579, 'whistle': 1580, 'tipped': 1581, 'gates.': 1582, 'excuse': 1583, '2001': 1584, 'distance': 1585, 'stuffed': 1586, 'curiously.': 1587, 'crops': 1588, 'leave': 1589, 'rope': 1590, 'fact': 1591, 'some': 1592, 'lightning': 1593, 'door.': 1594, 'simple': 1595, 'payments': 1596, 'brannew': 1597, 'suit': 1598, 'mystery': 1599, 'cotton': 1600, 'elect': 1601, 'palace.': 1602, 'loudest': 1603, 'called': 1604, 'sounds': 1605, 'cheer': 1606, 'unable': 1607, 'when': 1608, 'tired.': 1609, 'wood.': 1610, 'unfastened': 1611, 'travel': 1612, 'dear.': 1613, 'kalidahs?': 1614, 'clump': 1615, 'spoil': 1616, 'dorothys': 1617, 'feel?': 1618, 'hearted.': 1619, 'shone': 1620, 'hands.': 1621, 'sometimes': 1622, 'nuts': 1623, 'could.': 1624, 'years': 1625, 'travels.': 1626, 'higher': 1627, 'abide': 1628, 'marked': 1629, 'together': 1630, 'paint': 1631, 'worth': 1632, 'watch': 1633, 'drop': 1634, 'shades.': 1635, 'right.': 1636, 'clearly': 1637, 'countries': 1638, 'east': 1639, 'bottom': 1640, 'buttercups': 1641, 'since': 1642, 'wearing': 1643, 'woodchopper.': 1644, 'twenty': 1645, 'herself.': 1646, 'sprang': 1647, 'times': 1648, 'rested': 1649, 'midst': 1650, 'lucky': 1651, 'form': 1652, 'orphan': 1653, 'because': 1654, 'art': 1655, 'knowing': 1656, 'united': 1657, 'fond': 1658, 'remaining': 1659, 'frock.': 1660, 'you!': 1661, 'glasses': 1662, 'drags': 1663, 'possible.': 1664, 'true': 1665, 'spring': 1666, 'now.': 1667, 'beasts.': 1668, 'tiny': 1669, 'jar': 1670, 'badly': 1671, 'corner.': 1672, 'scarecrow.': 1673, 'ive': 1674, 'ball': 1675, 'empty.': 1676, 'head?': 1677, 'statements': 1678, 'monkeys': 1679, 'cover': 1680, 'resting?': 1681, 'with.': 1682, 'chin': 1683, 'brilliancy': 1684, 'down?': 1685, 'pleasant': 1686, 'cracked': 1687, 'sir!': 1688, 'deletions': 1689, 'bread.': 1690, 'kept': 1691, 'careless': 1692, 'plainly': 1693, 'fire.': 1694, 'gave': 1695, 'all!': 1696, 'lips': 1697, 'solemn': 1698, 'drew': 1699, 'selling': 1700, 'man': 1701, 'hammerheads.': 1702, 'tempted': 1703, 'flower': 1704, 'dismally.': 1705, 'wings': 1706, 'figure': 1707, 'yawning': 1708, 'metals': 1709, 'reported': 1710, 'pointing': 1711, 'noticed': 1712, 'hollo': 1713, 'sticking': 1714, 'shaken': 1715, 'hand.': 1716, 'father': 1717, 'babies': 1718, 'tone': 1719, 'fell': 1720, 'gothe': 1721, 'lift.': 1722, 'glowing': 1723, 'worry': 1724, 'havent': 1725, 'fruit.': 1726, 'so!': 1727, 'able': 1728, 'remain': 1729, 'were.': 1730, 'creature!': 1731, 'long': 1732, 'sorrowfully': 1733, 'drank': 1734, 'exactly.': 1735, 'witchs': 1736, 'melted!': 1737, 'genie': 1738, 'pot': 1739, 'peculiar': 1740, 'throw': 1741, 'sniffed': 1742, 'compliance.': 1743, 'replied.': 1744, 'blinded': 1745, 'till': 1746, 'grassy': 1747, 'that': 1748, 'belong': 1749, 'task.': 1750, 'nothing': 1751, 'ditch.': 1752, 'back': 1753, 'lead': 1754, 'however': 1755, 'truck.': 1756, 'pathwaybetween': 1757, 'real': 1758, 'pressure': 1759, 'business': 1760, 'bottle': 1761, 'armed': 1762, 'necessarily': 1763, 'your': 1764, 'sitting.': 1765, 'vii.': 1766, 'walked': 1767, 'cheeks': 1768, 'him.': 1769, 'rocked': 1770, 'days.': 1771, 'aroused': 1772, 'aaa': 1773, 'better': 1774, 'gross': 1775, 'collection.': 1776, 'evidently': 1777, 'alarm': 1778, 'silver.': 1779, 'sparkle': 1780, 'bending': 1781, 'or': 1782, 'upon': 1783, 'really?': 1784, 'condition': 1785, 'bearing': 1786, 'scratched': 1787, 'peck': 1788, 'word': 1789, 'scatter': 1790, 'bar': 1791, 'wellpleased': 1792, 'roar': 1793, 'mistake': 1794, 'keep': 1795, 'studded': 1796, 'xi': 1797, 'poison': 1798, 'everywhere.': 1799, 'ugly': 1800, 'scrambled': 1801, 'ask.': 1802, 'rear': 1803, 'wisest': 1804, 'be': 1805, 'adventure': 1806, 'moon': 1807, 'transcription': 1808, 'words': 1809, 'basket': 1810, 'believe.': 1811, 'alas!': 1812, 'refreshed': 1813, 'lions.': 1814, 'growling': 1815, 'party.': 1816, 'greater': 1817, 'additional': 1818, 'mean': 1819, 'receipt': 1820, 'confirmation': 1821, 'new': 1822, 'cowardly': 1823, 'suffered': 1824, 'walls': 1825, 'fences': 1826, 'force': 1827, 'through': 1828, 'luckily': 1829, 'first': 1830, 'supposed': 1831, 'bitten': 1832, 'gutenberg.': 1833, 'rock': 1834, 'middle': 1835, 'turned': 1836, 'yawned.': 1837, 'gradually': 1838, 'state': 1839, 'purpose': 1840, 'point': 1841, 'himself': 1842, 'smiled': 1843, 'aunt.': 1844, 'across': 1845, 'group.': 1846, 'finished': 1847, 'gate': 1848, 'irs.': 1849, 'return.': 1850, 'sight.': 1851, 'said': 1852, 'committed': 1853, 'was': 1854, 'obtain': 1855, 'own': 1856, 'bodies': 1857, 'wizard': 1858, 'rattling': 1859, 'the': 1860, 'person.': 1861, 'carved': 1862, 'shoulders': 1863, 'motioning': 1864, 'rest': 1865, 'odor': 1866, 'messenger': 1867, 'leaps': 1868, 'injure': 1869, 'requirements.': 1870, 'did': 1871, 'inside': 1872, 'pretend': 1873, 'spoiled': 1874, 'comforted': 1875, 'instantly': 1876, 'tops': 1877, 'heads.': 1878, 'farewell': 1879, 'dismay.': 1880, 'vii': 1881, 'wizards?': 1882, 'queer': 1883, 'walks': 1884, 'ladder': 1885, 'contented': 1886, 'grayer': 1887, 'patted': 1888, 'terrible?': 1889, 'nearly': 1890, 'stripes': 1891, 'might': 1892, 'about.': 1893, 'meadow': 1894, 'naturally': 1895, 'immediate': 1896, 'balloonist.': 1897, 'earn': 1898, 'think!': 1899, 'bite': 1900, 'ripples': 1901, 'fountain': 1902, 'working': 1903, 'magician': 1904, 'way?': 1905, 'laying': 1906, 'wise.': 1907, 'oh': 1908, 'small': 1909, 'well': 1910, 'bottom.': 1911, 'deprive': 1912, 'besides': 1913, 'represent': 1914, 'crush': 1915, 'barking': 1916, '1.e.5.': 1917, 'head': 1918, 'breathing': 1919, 'zuzzy': 1920, 'careful!': 1921, 'knows': 1922, 'if': 1923, 'treated': 1924, 'attempt.': 1925, 'chairs': 1926, 'ladies': 1927, 'regulating': 1928, 'pointed': 1929, 'bell.': 1930, 'draw': 1931, 'desire.': 1932, 'sun': 1933, 'sang': 1934, 'go.': 1935, 'cooked': 1936, 'presently': 1937, 'ensuring': 1938, 'tongue': 1939, 'using': 1940, 'barked': 1941, 'neck': 1942, 'powerful': 1943, 'stairs': 1944, 'medium': 1945, 'cleared': 1946, 'lives': 1947, 'glittering': 1948, 'hands': 1949, 'admitted': 1950, 'bowed': 1951, 'peaked': 1952, 'below': 1953, 'chose': 1954, 'riding': 1955, 'passages': 1956, 'go!': 1957, 'fruits': 1958, 'start.': 1959, 'windows': 1960, 'book': 1961, '1.f.6.': 1962, 'sky': 1963, 'cannot!': 1964, 'food': 1965, 'updated': 1966, 'morality': 1967, 'xiii.': 1968, 'historical': 1969, 'compliance': 1970, 'bear': 1971, 'mouse': 1972, 'vexation': 1973, 'this.': 1974, 'discontinue': 1975, 'under': 1976, 'dry': 1977, 'golden': 1978, 'www.gutenberg.orglicense.': 1979, 'padded': 1980, 'kingdom.': 1981, 'internal': 1982, 'contain': 1983, 'main': 1984, 'iii': 1985, 'confirmed': 1986, 'tiresome.': 1987, 'search': 1988, 'perfectly': 1989, 'breath': 1990, 'went': 1991, 'anything': 1992, 'storm.': 1993, 'happened.': 1994, 'attached': 1995, 'shoes?': 1996, 'lifted': 1997, 'constantly': 1998, 'open.': 1999, 'mantels': 2000, 'wasnt': 2001, 'henry.': 2002, 'red': 2003, 'steadily.': 2004, 'dread': 2005, 'shepherdesses': 2006, 'damaged.': 2007, 'sharpened': 2008, 'platter.': 2009, 'groaning': 2010, 'toiling': 2011, 'moral': 2012, 'instinctive': 2013, 'provisions.': 2014, 'fancy': 2015, 'braver': 2016, 'circus': 2017, 'cool': 2018, 'whose': 2019, 'remembered': 2020, 'concept': 2021, 'extralarge': 2022, 'turn': 2023, 'flights': 2024, 'doublets': 2025, 'trademarkcopyright': 2026, 'angry.': 2027, 'hidden': 2028, 'provide': 2029, 'still': 2030, 'sorrow': 2031, 'uniforms': 2032, 'him': 2033, 'up.': 2034, 'grew': 2035, 'thoughtful.': 2036, 'disappointment.': 2037, 'cornfield.': 2038, 'stir': 2039, 'watched': 2040, 'city.': 2041, 'helped': 2042, 'rules': 2043, 'else.': 2044, 'walk.': 2045, 'sharply': 2046, 'unhappiness': 2047, 'fate': 2048, 'brain': 2049, 'yelled': 2050, 'entity': 2051, 'growl': 2052, 'dreamed': 2053, 'everybody': 2054, 'lie': 2055, 'beard': 2056, 'jagged': 2057, 'ein': 2058, 'like?': 2059, 'world': 2060, 'grant': 2061, 'barns': 2062, 'gingham': 2063, 'sad': 2064, 'ate': 2065, 'window': 2066, 'sob': 2067, 'angered': 2068, 'humbug?': 2069, 'matters': 2070, 'fitted': 2071, 'heart?': 2072, 'fight': 2073, 'easily': 2074, 'a': 2075, 'many': 2076, 'lately': 2077, 'simply': 2078, 'darling': 2079, 'liable': 2080, 'pain': 2081, 'yellowing': 2082, 'drawingroom': 2083, 'bordered': 2084, 'there': 2085, 'nearby': 2086, 'scared': 2087, 'her?': 2088, 'beautiful.': 2089, 'couch': 2090, 'telling': 2091, 'xviii.': 2092, 'rolled': 2093, 'proofread': 2094, 'nights': 2095, 'survive': 2096, 'lion!': 2097, 'harmed': 2098, 'dwelt.': 2099, 'promise.': 2100, 'manager': 2101, 'chasing': 2102, 'low': 2103, 'favorite': 2104, 'stalks': 2105, 'darkness.': 2106, 'grants': 2107, 'has': 2108, 'glinda?': 2109, 'huge': 2110, 'containing': 2111, 'silky': 2112, 'can': 2113, 'along.': 2114, 'sadly.': 2115, 'seized': 2116, 'hurry': 2117, 'that!': 2118, 'unprotected': 2119, 'contributions': 2120, 'someday': 2121, 'commercial': 2122, 'several': 2123, 'well.': 2124, 'west.': 2125, 'wizard?': 2126, 'important.': 2127, 'catch': 2128, 'staff.': 2129, 'butter.': 2130, 'little.': 2131, 'best': 2132, 'hid': 2133, 'afresh': 2134, 'tell': 2135, 'hillier': 2136, 'consequential': 2137, 'pushed': 2138, 'shouted': 2139, 'scratch': 2140, 'blistered': 2141, 'coming': 2142, 'explanation': 2143, 'groan?': 2144, 'rocky': 2145, 'x': 2146, 'ruby.': 2147, 'series': 2148, 'doorway': 2149, 'shoes': 2150, 'include': 2151, 'incidental': 2152, 'reply.': 2153, 'attended': 2154, 'afterward': 2155, 'copies': 2156, 'brocaded': 2157, 'its': 2158, 'gown': 2159, '1500': 2160, 'trouble?': 2161, 'guardian': 2162, 'rubbed': 2163, 'prim': 2164, 'path.': 2165, 'strides': 2166, 'sets': 2167, 'sinking': 2168, 'no': 2169, 'three': 2170, 'not?': 2171, 'most': 2172, 'treat': 2173, 'gently': 2174, 'letting': 2175, 'girl.': 2176, 'proudly': 2177, 'breathed': 2178, 'shining': 2179, 'wickedand': 2180, 'invisible.': 2181, 'advice.': 2182, 'taxes.': 2183, 'climbed': 2184, 'child': 2185, 'magic': 2186, 'winkies': 2187, 'breathe': 2188, 'severe': 2189, 'there.': 2190, 'too.': 2191, 'mended?': 2192, 'maximum': 2193, 'beg': 2194, 'lumber': 2195, 'works': 2196, 'hanging': 2197, 'good': 2198, 'active': 2199, 'tremblingly': 2200, 'chop': 2201, 'sorceress': 2202, 'modification': 2203, 'l.f.b.': 2204, 'friends.': 2205, 'float': 2206, 'seems': 2207, 'kinder': 2208, 'what': 2209, 'close': 2210, '1900.': 2211, 'kindness.': 2212, 'collection': 2213, 'me': 2214, 'breaking': 2215, 'address': 2216, 'home.': 2217, 'herself': 2218, 'south.': 2219, 'eats': 2220, 'compel': 2221, 'bag': 2222, 'fastened': 2223, 'courage?': 2224, 'sound': 2225, 'helpless': 2226, 'us?': 2227, 'sizes': 2228, 'printed': 2229, 'hillside': 2230, 'youve': 2231, 'crown': 2232, 'willingly!': 2233, 'wail': 2234, 'elephants': 2235, 'roof': 2236, 'woodman.': 2237, '5000': 2238, '1.f.1.': 2239, 'no.': 2240, 'dead.': 2241, 'machinereadable': 2242, 'miss': 2243, 'knocked.': 2244, 'intense': 2245, 'approve': 2246, 'fluttered': 2247, 'stumbling': 2248, 'bodices': 2249, 'severely': 2250, 'dark': 2251, 'laid': 2252, 'sack': 2253, 'surprise.': 2254, '5961887.': 2255, 'beards.': 2256, 'usually': 2257, 'dishes.': 2258, 'received': 2259, 'donate': 2260, 'production': 2261, 'groan': 2262, 'mother': 2263, 'enabled': 2264, 'illustration': 2265, 'entirely.': 2266, 'girls': 2267, 'pile': 2268, 'years.': 2269, 'cat': 2270, 'easy.': 2271, 'directly': 2272, 'license.': 2273, 'how': 2274, 'manifestly': 2275, 'born': 2276, 'age': 2277, 'fill': 2278, 'cottage.': 2279, 'clothing': 2280, 'uttered': 2281, 'panes': 2282, 'trained': 2283, 'her.': 2284, 'creatures': 2285, 'damages': 2286, 'that?': 2287, 'heavily': 2288, 'either': 2289, 'back.': 2290, 'caused': 2291, 'must': 2292, 'legal': 2293, 'kitten': 2294, 'eliminated': 2295, 'unlucky': 2296, 'legends': 2297, 'blue': 2298, 'dance.': 2299, 'fully': 2300, 'left': 2301, 'too': 2302, 'gravely.': 2303, 'minds': 2304, 'pleats': 2305, 'access': 2306, 'rose': 2307, 'tale': 2308, 'missing': 2309, 'mind.': 2310, 'individual': 2311, 'equipment.': 2312, 'pure': 2313, 'ears?': 2314, 'thus': 2315, 'twined': 2316, 'beating': 2317, 'saucily': 2318, 'shoulder': 2319, 'greenish': 2320, 'wellpolished': 2321, 'larger': 2322, 'needs': 2323, 'cellarexcept': 2324, 'hairy': 2325, 'exclusion': 2326, 'munchkins': 2327, 'days': 2328, 'mississippi': 2329, 'already.': 2330, 'buckles': 2331, 'cow.': 2332, 'singing': 2333, 'drawers': 2334, 'sprinkled': 2335, 'funny': 2336, 'saving': 2337, 'folk': 2338, 'prepared': 2339, 'light.': 2340, 'ah': 2341, 'mishap.': 2342, 'sights': 2343, 'rescued.': 2344, 'brings': 2345, 'outhere': 2346, 'killing': 2347, 'baskets': 2348, 'rain': 2349, 'sorry.': 2350, 'ride': 2351, 'handle.': 2352, 'sudden!': 2353, 'further': 2354, 'clouds': 2355, 'rapped': 2356, 'everyone.': 2357, 'eight': 2358, 'munchkins?': 2359, 'section': 2360, 'obeyed': 2361, 'tears': 2362, 'her': 2363, 'brightly': 2364, 'glass': 2365, 'weaving': 2366, 'request': 2367, 'invalidity': 2368, 'silently': 2369, 'putting': 2370, 'freedom': 2371, 'brilliancy.': 2372, 'south': 2373, 'fed': 2374, 'compressed': 2375, 'disappeared': 2376, 'furiously': 2377, 'crowing': 2378, 'shades': 2379, 'gazing': 2380, 'butterflies': 2381, 'salt': 2382, 'top': 2383, 'does': 2384, 'frank': 2385, 'hole.': 2386, 'nuts.': 2387, 'assemblage': 2388, 'owned': 2389, 'brains': 2390, 'dew': 2391, 'soundly': 2392, 'greenwhiskered': 2393, 'comfortable': 2394, 'from': 2395, 'prevent': 2396, 'evermore.': 2397, 'demand': 2398, 'tenderhearted': 2399, 'traveling': 2400, 'pieces.': 2401, 'tried': 2402, 'followed': 2403, 'youre': 2404, 'speak': 2405, 'iv': 2406, 'imitate': 2407, 'please.': 2408, 'way': 2409, 'stare': 2410, 'obsolete': 2411, 'bread': 2412, 'totos': 2413, 'humbug': 2414, 'harshly': 2415, 'stiff': 2416, 'wolfs': 2417, 'unharnessed': 2418, 'lovingly': 2419, 'bent': 2420, 'divided': 2421, 'hearty': 2422, 'gray': 2423, 'classed': 2424, 'loved': 2425, 'stork.': 2426, 'almost': 2427, 'impression': 2428, 'reproachful': 2429, 'goodsized': 2430, 'bride': 2431, 'c': 2432, 'now': 2433, 'flattened': 2434, 'author': 2435, 'given': 2436, 'tallest': 2437, 'computer': 2438, 'mask': 2439, 'thought': 2440, 'snug': 2441, 'rank': 2442, 'professor': 2443, 'hole': 2444, 'lemonade': 2445, '2.': 2446, 'towel': 2447, 'himself.': 2448, 'listening': 2449, 'promise?': 2450, 'noble': 2451, 'carry': 2452, 'disk': 2453, 'rock.': 2454, 'darkened': 2455, 'gloomy': 2456, 'important': 2457, 'promise': 2458, 'munchkin': 2459, 'hereafter': 2460, 'floor': 2461, 'block': 2462, 'coils': 2463, 'contained': 2464, 'favors': 2465, 'chariot': 2466, 'lonely': 2467, 'heads': 2468, 'immense': 2469, 'logs': 2470, 'solid': 2471, 'wearer': 2472, 'xi.': 2473, 'fire': 2474, 'armless': 2475, 'shame': 2476, 'cast': 2477, 'terror.': 2478, 'companions.': 2479, 'climb': 2480, 'whoever': 2481, 'whatever': 2482, 'greeted': 2483, 'whistle.': 2484, 'hammering': 2485, 'grown': 2486, 'fruit': 2487, 'kansas!': 2488, 'dinner': 2489, 'lieu': 2490, 'dont!': 2491, 'bars': 2492, 'washings': 2493, 'jump?': 2494, 'relief': 2495, 'broken?': 2496, 'humbug.': 2497, 'safety': 2498, 'imposed': 2499, 'method': 2500, 'deadyears': 2501, '1.a.': 2502, 'em!': 2503, 'halves.': 2504, 'sale': 2505, 'help': 2506, 'eat.': 2507, 'seemed': 2508, 'obtaining': 2509, 'woman': 2510, 'prettiest': 2511, 'else': 2512, 'tin.': 2513, 'ordered': 2514, 'shedding': 2515, 'donors': 2516, 'winged': 2517, 'grand': 2518, 'entering': 2519, 'voice': 2520, 'sunshine': 2521, 'paved': 2522, 'tail': 2523, 'english': 2524, 'shock': 2525, 'frighten': 2526, 'commands': 2527, 'leg.': 2528, 'ditch': 2529, 'dropped': 2530, 'afraid': 2531, 'devised': 2532, 'attacked': 2533, 'reply': 2534, 'brightness': 2535, 'circle': 2536, 'rumble': 2537, 'shant': 2538, 'distributing': 2539, 'barnyard': 2540, 'beauty.': 2541, 'fallen': 2542, 'afterwards': 2543, 'pleasanter': 2544, 'up': 2545, 'receiving': 2546, 'slaves?': 2547, 'done!': 2548, 'modernized': 2549, 'trunk': 2550, 'blades': 2551, 'quick': 2552, 'oddly': 2553, 'outdated': 2554, 'beasts!': 2555, 'heartaches': 2556, 'sitting': 2557, 'flapping': 2558, 'xii': 2559, 'wise': 2560, 'paper': 2561, 'manner.': 2562, 'safe': 2563, 'mr.': 2564, 'applicable': 2565, 'city': 2566, 'dressed.': 2567, 'lap': 2568, 'showing': 2569, 'neat': 2570, 'additions': 2571, 'anxious': 2572, 'website': 2573, 'cooking': 2574, 'cap.': 2575, 'rough': 2576, 'far': 2577, 'disease': 2578, 'band': 2579, 'glue': 2580, 'all': 2581, 'wasps': 2582, 'warm': 2583, 'checked': 2584, 'slender': 2585, '20': 2586, 'blow': 2587, 'skins': 2588, 'creature.': 2589, 'rows': 2590, 'breach': 2591, 'xxiv.': 2592, 'thoughtfully': 2593, 'thoughtfully.': 2594, 'donations': 2595, 'wild': 2596, 'coal.': 2597, 'certainly.': 2598, 'laugh.': 2599, 'jeweled': 2600, 'ceiling': 2601, 'finished.': 2602, 'pglaf': 2603, 'human': 2604, 'eyes': 2605, 'explained': 2606, 'queerly': 2607, 'practically': 2608, 'bracelet': 2609, 'stands': 2610, 'world!': 2611, 'tolderideoh!': 2612, 'sparkled': 2613, 'dont': 2614, 'splendid': 2615, 'needles.': 2616, 'spoke': 2617, 'whole': 2618, 'widest': 2619, 'joy': 2620, 'nodding': 2621, 'start': 2622, 'wonder': 2623, 'for.': 2624, 'wasted': 2625, 'user': 2626, 'harder': 2627, 'straw': 2628, 'howled.': 2629, 'pleaded': 2630, 'feared': 2631, 'shape.': 2632, '646221541.': 2633, 'unreal.': 2634, 'fairy': 2635, 'dried.': 2636, 'adventures': 2637, 'work': 2638, 'v': 2639, 'sooner': 2640, 'satisfaction': 2641, 'owed': 2642, 'touch': 2643, 'paw': 2644, 'desire': 2645, 'coward.': 2646, 'key': 2647, 'alone.': 2648, 'stayed': 2649, '1.e.6.': 2650, 'registered': 2651, 'hint': 2652, 'arent': 2653, 'funny.': 2654, 'kalidahs!': 2655, 'checks': 2656, 'above': 2657, 'fit': 2658, 'deceive': 2659, 'heedless': 2660, 'ruffled': 2661, 'ventriloquist': 2662, 'yellow': 2663, 'beast': 2664, 'two': 2665, 'beautiful': 2666, 'childish': 2667, 'on.': 2668, 'sentence': 2669, 'oh!': 2670, 'river': 2671, 'marks': 2672, 'discomfort': 2673, 'nearer': 2674, 'ruined.': 2675, 'directions.': 2676, 'childhood': 2677, 'magicians.': 2678, 'underneath.': 2679, 'sight': 2680, 'cabinets': 2681, 'language': 2682, 'edge.': 2683, 'l.': 2684, 'mar': 2685, 'swift': 2686, 'last': 2687, 'yard.': 2688, 'jointed': 2689, 'directions': 2690, 'clings': 2691, 'especially': 2692, 'brother': 2693, 'wipe': 2694, 'u.s.': 2695, 'remember': 2696, 'opened': 2697, 'fitness': 2698, 'becomes': 2699, 'to.': 2700, 'incomplete': 2701, 'difficult': 2702, 'old': 2703, 'curled': 2704, 'gnashed': 2705, 'decide': 2706, 'expected': 2707, 'handled': 2708, 'replaced': 2709, 'good.': 2710, 'confidence': 2711, 'too!': 2712, 'slim': 2713, 'free': 2714, 'gayelette': 2715, 'change': 2716, 'lady': 2717, 'dangers': 2718, 'miles.': 2719, 'rarely': 2720, 'about': 2721, 'awkward': 2722, 'stings': 2723, 'available': 2724, 'whistling': 2725, 'faded': 2726, 'life': 2727, 'alive.': 2728, 'out': 2729, 'busy': 2730, 'there!': 2731, 'begun': 2732, 'again': 2733, 'hit': 2734, 'donation': 2735, 'bravely': 2736, 'surprised.': 2737, 'experience': 2738, 'mane': 2739, 'early': 2740, 'due': 2741, 'fields': 2742, 'at': 2743, 'powers.': 2744, 'bricks': 2745, 'brutes': 2746, 'later': 2747, 'first?': 2748, 'silver': 2749, 'fair': 2750, 'tax': 2751, 'rushed': 2752, 'date': 2753, 'fence': 2754, 'consider': 2755, 'opinion': 2756, 'remarkably': 2757, 'yours.': 2758, 'crash': 2759, 'caps.': 2760, 'waves': 2761, 'lying.': 2762, 'strangely': 2763, 'web': 2764, 'satin.': 2765, 'guests': 2766, 'added': 2767, 'fortune.': 2768, 'toto.': 2769, 'repay': 2770, 'wore.': 2771, 'asleep': 2772, 'produced': 2773, 'sulkily': 2774, 'joker?': 2775, 'anyway': 2776, 'owner': 2777, 'clothes': 2778, 'cat.': 2779, 'these': 2780, 'disgust.': 2781, 'have': 2782, 'burned': 2783, 'task': 2784, '4': 2785, 'seen.': 2786, 'wizards': 2787, 'slip': 2788, 'course': 2789, 'shout': 2790, 'childrenwalking': 2791, 'check': 2792, 'xviii': 2793, 'accepted': 2794, 'scarcely': 2795, 'balls': 2796, 'act.': 2797, 'joints': 2798, 'singed': 2799, 'sugar': 2800, 'felt': 2801, 'laughed': 2802, 'facing': 2803, 'decided': 2804, 'silk': 2805, 'size': 2806, 'by.': 2807, 'cry.': 2808, 'computers.': 2809, 'horses': 2810, 'moths': 2811, 'animals': 2812, 'mess.': 2813, 'finally': 2814, 'misfortune': 2815, 'vi': 2816, 'us!': 2817, 'raised': 2818, 'goodbye': 2819, 'he?': 2820, 'better.': 2821, 'flung': 2822, 'february': 2823, 'kindhearted': 2824, 'like': 2825, 'year': 2826, 'die': 2827, 'mourning': 2828, 'discouragements': 2829, 'constant': 2830, 'read': 2831, 'harm.': 2832, 'ring': 2833, 'advise': 2834, 'nothing.': 2835, 'returns.': 2836, 'ascii': 2837, 'emeralds': 2838, 'slavery.': 2839, 'amongst': 2840, 'spirits': 2841, 'wilder': 2842, 'thereupon': 2843, 'cannot': 2844, 'apron': 2845, 'suspected': 2846, 'story': 2847, 'gets': 2848, 'bears': 2849, 'modestly.': 2850, 'expend': 2851, 'going': 2852, 'really': 2853, 'cruelty.': 2854, 'colors.': 2855, 'calculate': 2856, 'wrinkles.': 2857, 'crept': 2858, 'em?': 2859, 'cut': 2860, 'so': 2861, 'room.': 2862, 'cried.': 2863, 'escape.': 2864, 'couldnt': 2865, 'womans': 2866, 'solicit': 2867, 'warmly': 2868, 'wondered': 2869, 'claws.': 2870, 'poppy': 2871, 'rug': 2872, 'grinning': 2873, 'originator': 2874, 'inquired': 2875, 'accessible': 2876, 'glory': 2877, 'manhood': 2878, 'careful': 2879, 'steeples': 2880, 'carts': 2881, 'rather': 2882, 'whatever.': 2883, 'patiently': 2884, 'towel.': 2885, 'onethe': 2886, 'who': 2887, 'one': 2888, 'stood': 2889, 'also.': 2890, 'dedicated': 2891, 'nice': 2892, 'clothes.': 2893, 'release': 2894, 'prosperous.': 2895, 'laws': 2896, 'battered': 2897, 'spark': 2898, 'out?': 2899, 'online': 2900, 'spectacles.': 2901, 'cease': 2902, 'green': 2903, 'begged': 2904, 'costumes.': 2905, 'comply': 2906, 'xxii': 2907, 'saw.': 2908, 'on!': 2909, 'north': 2910, 'lined': 2911, 'easy': 2912, 'creation': 2913, 'street': 2914, 'kettles': 2915, 'floating': 2916, 'redistribution': 2917, 'groan.': 2918, 'trunk.': 2919, 'remained': 2920, 'merchantability': 2921, 'broad': 2922, 'bleed': 2923, 'grateful': 2924, 'girl': 2925, 'by': 2926, 'frock': 2927, 'editions': 2928, 'front': 2929, 'links': 2930, 'settee': 2931, 'preserve': 2932, 'boldly': 2933, 'offered': 2934, 'flew': 2935, 'night.': 2936, 'some.': 2937, 'wheels': 2938, 'things': 2939, 'between': 2940, 'dontand': 2941, 'screamed.': 2942, 'dismally': 2943, 'promoting': 2944, 'strict': 2945, 'warmed': 2946, 'despairingly.': 2947, 'enough': 2948, 'tumbling': 2949, 'forgive': 2950, 'richest': 2951, 'whether': 2952, 'trembled': 2953, 'stuffed?': 2954, 'timidly.': 2955, 'dainty': 2956, 'bought': 2957, 'give': 2958, 'plague': 2959, 'closing': 2960, 'types': 2961, 'friends?': 2962, 'vanilla': 2963, 'body': 2964, 'rocks.': 2965, 'action': 2966, 'aunt': 2967, 'want?': 2968, 'elephant': 2969, 'dozen': 2970, 'coming.': 2971, 'can.': 2972, 'men': 2973, 'wore': 2974, 'roads': 2975, 'admit.': 2976, 'forever.': 2977, 'from.': 2978, 'within.': 2979, 'china': 2980, 'law.': 2981, 'tales': 2982, 'badly.': 2983, 'direction': 2984, 'kindly': 2985, 'handkerchiefs': 2986, 'spider': 2987, 'bells': 2988, 'sew': 2989, 'plumage': 2990, 'official': 2991, 'imagined': 2992, 'clown': 2993, 'reached': 2994, 'accounts': 2995, 'wrong': 2996, 'house': 2997, 'daylight': 2998, 'despairing': 2999, 'path': 3000, 'while': 3001, 'air.': 3002, 'pattering': 3003, 'defect': 3004, 'ebooks.': 3005, 'information': 3006, 'recently': 3007, 'replied': 3008, 'garret': 3009, 'whirls': 3010, 'glinda': 3011, 'cold': 3012, 'wanted.': 3013, 'tastes': 3014, 'possible': 3015, 'gazed': 3016, 'smell': 3017, 'gauze': 3018, 'alternate': 3019, 'probably': 3020, 'witch': 3021, 'polished': 3022, 'quelala': 3023, 'cross': 3024, 'page': 3025, 'wailed': 3026, 'basin.': 3027, 'earned': 3028, 'helped.': 3029, 'stool': 3030, 'every': 3031, 'im': 3032, 'xiii': 3033, 'danger': 3034, 'heap': 3035, 'staring': 3036, 'pegs': 3037, 'bless': 3038, 'gate.': 3039, 'burnished': 3040, 'jewels.': 3041, 'eat': 3042, 'care': 3043, 'neither.': 3044, 'carried.': 3045, 'dose': 3046, 'princess.': 3047, 'wound': 3048, 'deer': 3049, 'protect': 3050, 'water.': 3051, 'plight': 3052, 'hushed': 3053, 'ii.': 3054, 'slave': 3055, 'tied': 3056, 'brains.': 3057, 'arched': 3058, 'performed': 3059, 'newer': 3060, 'yours': 3061, 'tigers.': 3062, 'fiddlers': 3063, 'near': 3064, 'calling': 3065, 'industrious': 3066, 'monster': 3067, 'downloading': 3068, 'cant': 3069, 'celebrate': 3070, 'going?': 3071, 'four': 3072, 'laughter': 3073, 'dancing': 3074, 'dreary': 3075, '3.': 3076, 'earnestly': 3077, 'brick': 3078, 'more.': 3079, 'formats': 3080, 'inlaid': 3081, 'do.': 3082, 'land.': 3083, 'cry': 3084, 'grieved': 3085, 'ebook.': 3086, 'standing': 3087, 'twinkling.': 3088, 'you.': 3089, 'fearing': 3090, 'flowing': 3091, 'books.': 3092, 'seem': 3093, 'sorrowful': 3094, 'baked': 3095, 'carefully': 3096, 'corn.': 3097, 'meekly.': 3098, 'childrens': 3099, 'curious': 3100, 'upward': 3101, 'milkmaids': 3102, 'widespreading': 3103, '5.': 3104, 'able.': 3105, 'whining': 3106, 'pleased': 3107, 'hurt': 3108, 'burn': 3109, 'among': 3110, 'around.': 3111, 'morning.': 3112, 'bit': 3113, 'alteration': 3114, 'presence.': 3115, 'delight': 3116, 'glistened': 3117, 'free.': 3118, 'damage': 3119, 'last.': 3120, 'mouse.': 3121, 'whenever': 3122, 'kalidahs': 3123, 'case': 3124, 'did.': 3125, 'array': 3126, 'swamp': 3127, 'had': 3128, 'maiden': 3129, 'streets': 3130, 'save': 3131, 'dare': 3132, 'beat.': 3133, 'oats': 3134, '1.e': 3135, 'looks': 3136, 'thinner': 3137, 'ears': 3138, 'power.': 3139, 'asked.': 3140, 'message.': 3141, 'indirect': 3142, 'order.': 3143, 'indemnify': 3144, 'books': 3145, 'contentedly': 3146, 'less': 3147, 'desired': 3148, 'x.': 3149, 'pies': 3150, 'ashamed': 3151, 'middlesized': 3152, 'curiosity.': 3153, 'smoothing': 3154, 'tables': 3155, 'lived.': 3156, 'dress': 3157, 'wanted': 3158, 'tinsmith': 3159, 'nevertheless.': 3160, 'hurt.': 3161, 'buttercups.': 3162, 'brains!': 3163, 'complying': 3164, 'content': 3165, 'quite': 3166, 'city?': 3167, 'hardly': 3168, 'land': 3169, 'curiosity': 3170, 'everything': 3171, 'faintest': 3172, 'struggle': 3173, 'forthwith': 3174, 'tired': 3175, 'death.': 3176, 'indemnity': 3177, 'farmer.': 3178, 'baum': 3179, 'became': 3180, 'freed': 3181, 'queen?': 3182, 'zik!': 3183, 'suggested.': 3184, 'stories': 3185, 'prairies.': 3186, 'tremble.': 3187, 'untilled.': 3188, 'wondering': 3189, 'strangest': 3190, 'prominently': 3191, 'farmer': 3192, 'pins': 3193, 'quietly.': 3194, 'damages.': 3195, 'oiled': 3196, 'fall.': 3197, 'road.': 3198, 'mouth': 3199, 'lived': 3200, 'grain.': 3201, 'sleep.': 3202, 'pictures': 3203, 'loss': 3204, 'hear': 3205, 'frightened': 3206, 'careful.': 3207, 'ringing': 3208, 'night': 3209, 'confidentially': 3210, 'completely': 3211, 'clear': 3212, 'arms.': 3213, 'anxiously': 3214, 'cows': 3215, 'tip': 3216, 'bow.': 3217, 'stupid': 3218, 'desert?': 3219, 'menders': 3220, 'should': 3221, 'wildcat?': 3222, 'allow': 3223, 'prefer': 3224, 'strike': 3225, 'beyond': 3226, 'join': 3227, 'long.': 3228, 'very!': 3229, 'brittle!': 3230, 'braid': 3231, 'soft': 3232, 'beds.': 3233, 'shape': 3234, 'bran': 3235, 'around': 3236, 'other.': 3237, 'travelers': 3238, 'shut': 3239, 'spot': 3240, 'bushes.': 3241, 'tinsmiths': 3242, 'ball.': 3243, 'converse': 3244, 'rippling': 3245, 'gruffly': 3246, 'folklore': 3247, 'laughing': 3248, 'dangerous': 3249, 'stretched': 3250, 'weight.': 3251, 'rains': 3252, 'indicate': 3253, 'hugged': 3254, 'twisting': 3255, 'wonderful?': 3256, 'seeing': 3257, 'happy': 3258, 'periodic': 3259, 'bird': 3260, 'death!': 3261, 'black': 3262, 's.': 3263, 'spoke.': 3264, 'paused': 3265, 'sobbed.': 3266, 'redistributing': 3267, 'heart.': 3268, 'donations.': 3269, 'zizzy': 3270, 'written': 3271, 'backward': 3272, 'xxiv': 3273, 'natural': 3274, 'announced': 3275, 'falling': 3276, 'library': 3277, 'uplifted': 3278, 'mice': 3279, 'rubies': 3280, 'oz.': 3281, 'horse': 3282, 'hello!': 3283, 'roof.': 3284, 'brought': 3285, 'bow': 3286, 'grown.': 3287, 'declared': 3288, 'witches': 3289, '90': 3290, 'sun.': 3291, 'agreement': 3292, 'cupboard': 3293, 'tossed': 3294, 'dog': 3295, 'west?': 3296, 'daunted': 3297, 'meekly': 3298, 'done?': 3299, 'emerald': 3300, 'poisonous': 3301, 'entire': 3302, 'mewed': 3303, 'heaps': 3304, 'pleases': 3305, 'large': 3306, 'crops.': 3307, 'end.': 3308, 'www.gutenberg.org.': 3309, 'hundred': 3310, 'sleepless': 3311, 'get.': 3312, 'states.': 3313, 'swiftly': 3314, 'get': 3315, 'she?': 3316, 'thanked': 3317, 'door': 3318, 'bigger': 3319, 'cloth': 3320, 'claws': 3321, 'dreadfullooking': 3322, 'scent': 3323, 'worn': 3324, 'become': 3325, 'farms': 3326, 'shaped': 3327, 'fourth': 3328, 'stay': 3329, 'undergo': 3330, 'everywhere': 3331, 'rooms': 3332, 'arose': 3333, 'laughed.': 3334, 'command?': 3335, 'considerably': 3336, 'trying': 3337, 'fairly': 3338, 'move': 3339, 'fiercely': 3340, 'hours': 3341, 'trotting': 3342, 'wept': 3343, 'exhausted.': 3344, 'learning': 3345, 'loose': 3346, 'killed': 3347, 'pigs': 3348, 'hope': 3349, 'kept.': 3350, 'destroyed?': 3351, 'build': 3352, 'terrible': 3353, 'grabbed': 3354, 'sparkling': 3355, 'umbrella': 3356, 'require': 3357, 'plums': 3358, 'forth': 3359, 'afraid.': 3360, 'quiet': 3361, 'white.': 3362, 'scare': 3363, 'faces': 3364, 'hair.': 3365, 'increasing': 3366, 'orders': 3367, 'sweep': 3368, 'princess': 3369, 'ebooks': 3370, 'fly.': 3371, 'rule': 3372, 'anywhere': 3373, 'disclaim': 3374, 'bewilderment.': 3375, 'mixture': 3376, 'timidly': 3377, 'enslave': 3378, 'it': 3379, 'neednt': 3380, 'toes': 3381, 'perplexity.': 3382, 'thinking': 3383, 'horse.': 3384, 'soldier': 3385, 'slaves.': 3386, 'doing.': 3387, 'respect?': 3388, 'floor.': 3389, 'raise': 3390, 'saved': 3391, 'my': 3392, 'behind.': 3393, 'xxi': 3394, 'feel': 3395, 'whosoever': 3396, 'restrictions': 3397, 'crow': 3398, 'uniform': 3399, 'wrinkles': 3400, 'hour.': 3401, 'deed': 3402, 'float.': 3403, 'forest': 3404, 'rust.': 3405, 'covering': 3406, 'edition.': 3407, 'calmly': 3408, 'joy.': 3409, 'kitchen': 3410, 'folding': 3411, 'cap!': 3412, 'striking': 3413, 'crawled': 3414, 'sewed': 3415, 'mind': 3416, 'use': 3417, 'proud': 3418, 'off.': 3419, 'apply': 3420, 'hot': 3421, 'cannon': 3422, 'breast': 3423, 'solicitation': 3424, 'strong': 3425, 'teeth.': 3426, 'any?': 3427, 'stock.': 3428, 'winds': 3429, 'meet': 3430, 'troubles': 3431, 'synonymous': 3432, 'xxiii.': 3433, 'email': 3434, 'beast.': 3435, 'copy': 3436, 'fruits.': 3437, 'gorgeous': 3438, 'paragraphs': 3439, 'look': 3440, 'fearsome': 3441, 'wish.': 3442, 'brownie': 3443, 'quadlings': 3444, 'nobody': 3445, 'seize': 3446, 'flooding': 3447, 'wrinkled': 3448, 'project': 3449, 'times.': 3450, 'addition': 3451, 'people.': 3452, 'gets.': 3453, 'softly': 3454, 'you': 3455, 'foolish': 3456, 'least.': 3457, 'beauty': 3458, 'lain': 3459, 'flowers.': 3460, 'lodged': 3461, 'battle': 3462, 'ordinary': 3463, 'treads': 3464, 'drink': 3465, 'blew': 3466, 'center': 3467, 'home': 3468, 'tomorrow': 3469, 'moved': 3470, 'arms': 3471, 'tiresome': 3472, 'copied': 3473, 'both': 3474, 'growled': 3475, 'arm': 3476, 'appears': 3477, 'rare': 3478, 'dents': 3479, 'milk': 3480, 'described': 3481, 'employee': 3482, 'mat': 3483, 'bowl': 3484, 'fingers': 3485, 'unsolicited': 3486, 'sorceress.': 3487, 'thicknesses': 3488, 'print': 3489, 'send': 3490, 'identification': 3491, 'it.': 3492, 'love': 3493, 'rumbling': 3494, 'shared': 3495, 'parts': 3496, 'cheers': 3497, 'bees': 3498, 'wolves': 3499, 'stiffly.': 3500, 'puzzled': 3501, 'find': 3502, 'boots': 3503, 'balloon': 3504, 'longing': 3505, '1.f.4.': 3506, 'april': 3507, 'east?': 3508, 'down.': 3509, 'myselfim': 3510, 'rays': 3511, 'deeds.': 3512, 'commands?': 3513, 'kansas.': 3514, 'alone': 3515, 'knee.': 3516, 'say': 3517, 'prisoners': 3518, 'burst.': 3519, 'pages': 3520, 'marched': 3521, 'wait': 3522, 'financial': 3523, 'reasonable': 3524, 'tore': 3525, 'bade': 3526, 'aspires': 3527, 'all.': 3528, 'bend': 3529, 'bit.': 3530, 'comrades.': 3531, 'derivative': 3532, 'contract': 3533, 'also?': 3534, 'politeness': 3535, 'greensward': 3536, 'river.': 3537, 'scattered': 3538, 'xv': 3539, 'pudgy': 3540, 'throat.': 3541, 'hurriedly': 3542, 'mission': 3543, 'holiday': 3544, 'scarecrow': 3545, 'meantime': 3546, 'past': 3547, 'weak': 3548, 'hungry': 3549, 'claim': 3550, 'already': 3551, 'ruled.': 3552, 'hardships': 3553, 'sawdust.': 3554, 'moss': 3555, 'provision': 3556, 'facility': 3557, 'of': 3558, 'laugh': 3559, 'short': 3560, 'shoe!': 3561, '50': 3562, 'disappointed.': 3563, 'i.': 3564, 'reuse': 3565, 'riverbank': 3566, 'squeaky': 3567, 'one.': 3568, 'this': 3569, 'fresh': 3570, 'touched': 3571, 'growing': 3572, 'know.': 3573, 'bitterly': 3574, 'munchkins.': 3575, 'goals': 3576, 'jaws': 3577, 'screen': 3578, 'danger.': 3579, 'wall.': 3580, 'limping': 3581, 'forced': 3582, 'appear': 3583, 'bring.': 3584, 'meplease': 3585, 'wonderful': 3586, 'caught': 3587, 'tinkle': 3588, 'losing': 3589, 'heart': 3590, 'wife': 3591, 'guarded': 3592, 'crows.': 3593, 'then': 3594, 'not!': 3595, 'damaged': 3596, 'actually': 3597, 'tenderly': 3598, 'whirled': 3599, 'inaccurate': 3600, 'sudden': 3601, 'fly': 3602, 'telescope': 3603, 'gentlyfor': 3604, 'melted': 3605, 'purred': 3606, 'woodmans': 3607, 'clasping': 3608, 'removed': 3609, 'mouth.': 3610, 'enormous': 3611, 'straighten': 3612, 'dared': 3613, 'first.': 3614, 'drive': 3615, 'could': 3616, 'meek.': 3617, 'until': 3618, 'happened': 3619, 'wagged': 3620, 'gutenberg': 3621, 'scarecrows': 3622, 'glittered': 3623, 'outside': 3624, 'fastening': 3625, 'balloon.': 3626, 'killed.': 3627, 'flesh.': 3628, 'jumped': 3629, 'led': 3630, 'begin': 3631, 'stupidly': 3632, 'shaggy': 3633, 'chamber': 3634, 'fragrance': 3635, '1993': 3636, 'ready.': 3637, 'mine': 3638, 'broken': 3639, 'know?': 3640, 'idea': 3641, '809': 3642, 'covered': 3643, 'included': 3644, 'strings': 3645, 'powers': 3646, 'how?': 3647, 'tails': 3648, 'wellpaved': 3649, 'rest.': 3650, 'pick': 3651, 'unknown': 3652, 'happy.': 3653, 'stork': 3654, 'stamped': 3655, 'voice.': 3656, 'throwing': 3657, 'roadside': 3658, 'chatted': 3659, 'answer': 3660, 'perched': 3661, 'crying': 3662, 'anything.': 3663, 'sharp': 3664, 'twinkled': 3665, 'drink.': 3666, 'over.': 3667, 'washing': 3668, 'bidding': 3669, 'worried': 3670, 'fees': 3671, 'stand': 3672, 'meal': 3673, 'inquired.': 3674, 'see': 3675, 'away.': 3676, 'chapter': 3677, 'mischief': 3678, 'gowns': 3679, 'cunning': 3680, 'lazy': 3681, 'ones.': 3682, 'derive': 3683, 'bravely.': 3684, 'day.': 3685, 'wished': 3686, 'sit': 3687, 'army': 3688, 'presentable': 3689, 'infringement': 3690, 'em': 3691, 'previous': 3692, 'face': 3693, 'peaches': 3694, 'grumble': 3695, 'ruined': 3696, 'proves': 3697, 'clapping': 3698, 'not': 3699, 'receive': 3700, 'promises.': 3701, 'service': 3702, 'works.': 3703, 'files': 3704, 'service.': 3705, 'stream': 3706, 'wishes.': 3707, 'satisfied': 3708, 'lot.': 3709, 'nick': 3710, 'cookies': 3711, 'generously': 3712, 'quadlings.': 3713, 'sections': 3714, 'ami': 3715, 'wider.': 3716, 'tall': 3717, 'swaying': 3718, 'say?': 3719, 'paperwork': 3720, 'husky': 3721, 'talk': 3722, 'dashed': 3723, 'beginning': 3724, 'suppose': 3725, 'indicating': 3726, 'retorted': 3727, 'ones': 3728, '1.e.': 3729, 'kissed': 3730, 'admit': 3731, 'wickedtremendously': 3732, 'civilized': 3733, 'rising': 3734, 'often': 3735, 'pair': 3736, 'resolved': 3737, 'straightened': 3738, 'exactly': 3739, 'summoned': 3740, 'disclaimer': 3741, 'corner': 3742, 'needed': 3743, 'hair': 3744, 'ii': 3745, 'like.': 3746, 'woodman': 3747, 'pocket': 3748, 'coward?': 3749, '1.f.5.': 3750, 'rusted.': 3751, 'passing': 3752, 'gulf': 3753, 'kingdom': 3754, 'country?': 3755, 'wants': 3756, 'holding': 3757, 'rate.': 3758, 'emeraldgreen': 3759, 'porridge': 3760, 'sunny': 3761, 'coal': 3762, 'surely': 3763, 'fellow': 3764, 'nor': 3765, 'theres': 3766, 'would.': 3767, 'number': 3768, 'see!': 3769, 'tedious': 3770, 'belonged': 3771, 'third': 3772, 'furniture': 3773, 'trick': 3774, 'yourself': 3775, 'starved.': 3776, 'hesitated': 3777, 'domain': 3778, 'tale.': 3779, 'underneath': 3780, 'imagine': 3781, 'green.': 3782, 'innocent': 3783, 'notice': 3784, 'sticks': 3785, 'cowardly.': 3786, 'status': 3787, 'themselves': 3788, 'sleep': 3789, 'roared': 3790, 'spread': 3791, 'refund': 3792, 'stereotyped': 3793, 'returned.': 3794, 'critical': 3795, 'cloud': 3796, 'heels': 3797, 'closer': 3798, 'displaying': 3799, 'abundance.': 3800, 'once': 3801, 'secret': 3802, 'raft': 3803, 'roll': 3804, 'kindest': 3805, 'threatened': 3806, 'created': 3807, 'dismal': 3808, 'trimmed': 3809, 'air': 3810, 'format': 3811, 'set': 3812, 'fooled': 3813, 'therefore': 3814, 'woodchopper': 3815, 'wooden': 3816, 'trust': 3817, 'happiest': 3818, 'proper': 3819, 'weight': 3820, 'crouched': 3821, 'success': 3822, 'cap?': 3823, 'speaking': 3824, 'before': 3825, 'flesh': 3826, 'pretty': 3827, 'thoroughly': 3828, 'extend': 3829, 'defects': 3830, 'ease': 3831, 'believe': 3832, 'mice!': 3833, 'marshes': 3834, 'helpsuch': 3835, 'writing': 3836, 'future': 3837, 'apron.': 3838, 'tight': 3839, 'enemy.': 3840, 'rocks': 3841, 'politely': 3842, 'willing': 3843, 'trademark': 3844, 'sting': 3845, 'brick.': 3846, 'network': 3847, 'keeps': 3848, 'shouldering': 3849, 'chopping': 3850, 'greatest': 3851, 'placing': 3852, 'smashed': 3853, 'chopped': 3854, 'accident': 3855, 'shriek': 3856, 'nose': 3857, 'thousands': 3858, 'offer': 3859, 'animals.': 3860, 'asis': 3861, 'mistress.': 3862, 'computers': 3863, 'eyes.': 3864, 'death': 3865, 'support.': 3866, 'moved.': 3867, 'before.': 3868, 'cleaned': 3869, 'high': 3870, 'lot': 3871, 'honest': 3872, 'i': 3873, 'wood': 3874, 'shown': 3875, 'thrown': 3876, 'shepherds': 3877, 'rhinoceros': 3878, 'somewhere': 3879, 'wee': 3880, 'been': 3881, 'bring': 3882, 'office': 3883, 'incidents': 3884, 'continue': 3885, 'began': 3886, 'empty': 3887, 'kansas': 3888, 'gathered': 3889, 'rust': 3890, 'dearly': 3891, 'thin': 3892, 'waiting': 3893, 'fall': 3894, 'none': 3895, 'master.': 3896, 'mate': 3897, 'damage.': 3898, 'half': 3899, '1.e.2.': 3900, 'willingly': 3901, 'royalties.': 3902, 'officer': 3903, 'shoe': 3904, 'dear': 3905, 'forgave': 3906, 'corn': 3907, 'cookstove': 3908, 'slept': 3909, 'greatly': 3910, 'companions': 3911, 'beasts': 3912, 'understand.': 3913, 'surprise': 3914, 'appeared': 3915, 'dress.': 3916, '30': 3917, 'are': 3918, 'doesnt': 3919, 'sweetest': 3920, 'help.': 3921, 'www.gutenberg.org': 3922, 'fear': 3923, 'contents': 3924, '84116': 3925, 'seizes': 3926, 'foundation': 3927, 'enchant': 3928, 'educational': 3929, 'boq': 3930, 'gone': 3931, 'matter': 3932, 'replace': 3933, 'chickens': 3934, 'unenforceability': 3935, 'oz?': 3936, 'bidding.': 3937, 'alive': 3938, 'henry': 3939, 'whirlwinds': 3940, 'my!': 3941, 'forward': 3942, 'magic.': 3943, 'destroyed': 3944, 'peppe': 3945, 'bounding': 3946, 'ran': 3947, 'tree': 3948, 'found': 3949, 'presented': 3950, 'astonished': 3951, 'press': 3952, 'lining.': 3953, 'hard': 3954, 'order': 3955, 'thing': 3956, 'version': 3957, 'shop': 3958, 'hill': 3959, 'dwarf': 3960, 'brighter': 3961, '60': 3962, 'munchkin?': 3963, 'dear?': 3964, 'lest': 3965, 'became.': 3966, 'right': 3967, 'crossed': 3968, 'magical': 3969, 'camp': 3970, 'setting': 3971, 'being': 3972, 'beat': 3973, 'limitation': 3974, 'watching': 3975, 'sharing': 3976, 'cellar!': 3977, 'roast': 3978, 'carried': 3979, 'opening': 3980, 'showed': 3981, 'polishing': 3982, 'replacement': 3983, 'towers': 3984, 'ached.': 3985, 'creations.': 3986, 'is': 3987, 'properly': 3988, 'bell': 3989, 'cellar': 3990, 'which': 3991, 'eagerly': 3992, 'oddlooking': 3993, 'cock': 3994, 'entirely': 3995, 'bathing.': 3996, 'knock': 3997, 'queerest': 3998, 'healthy': 3999, 'serious': 4000, 'dies': 4001, 'also': 4002, 'piece': 4003, 'linked': 4004, 'call': 4005, 'dark.': 4006, 'trademark.': 4007, 'takes': 4008, 'based': 4009, '1.f.3': 4010, 'today': 4011, 'iii.': 4012, 'cap': 4013, 'princesses': 4014, 'melt': 4015, '1.e.7.': 4016, 'them.': 4017, 'unusual': 4018, 'wont': 4019, 'sat': 4020, 'comes': 4021, 'were': 4022, 'toto!': 4023, 'reports': 4024, 'traveled': 4025, 'nod': 4026, 'cornfield': 4027, 'farmers': 4028, 'and': 4029, 'shouldnt': 4030, 'splitting': 4031, 'echoed': 4032, 'seated': 4033, 'tears.': 4034, 'behold!': 4035, 'precious': 4036, 'bondage.': 4037, 'xx.': 4038, 'remembering': 4039, 'charges.': 4040, 'i?': 4041, 'melting': 4042, 'sigh': 4043, 'ears.': 4044, 'scarlet': 4045, 'xiv': 4046, 'loaded': 4047, 'afternoon': 4048, 'branches.': 4049, 'bound': 4050, 'furiously.': 4051, 'variety': 4052, 'footing': 4053, 'big': 4054, 'milkmaid': 4055, 'kick': 4056, 'warranties': 4057, 'determined': 4058, 'truth': 4059, 'length': 4060, 'lowered': 4061, 'known': 4062, 'unbearable': 4063, 'plan': 4064, 'wicked': 4065, 'legs.': 4066, 'sky.': 4067, 'talked': 4068, 'briskly': 4069, '4.': 4070, 'assorted': 4071, 'gutenbergs': 4072, 'woods.': 4073, 'skins.': 4074, 'exempt': 4075, 'mans': 4076, 'trouble': 4077, 'keeping': 4078, 'string.': 4079, 'account': 4080, 'show': 4081, 'branch': 4082, 'ripe': 4083, 'dreadful': 4084, 'shears': 4085, 'falls': 4086, 'interested.': 4087, 'crows': 4088, 'even': 4089, 'flight': 4090, 'man.': 4091, 'congratulate': 4092, 'it?': 4093, 'kiss': 4094, 'public': 4095, 'spirits.': 4096, 'obey': 4097, 'awaken': 4098, 'references': 4099, 'peace': 4100, 'wiped': 4101, 'sure': 4102, 'name': 4103, 'pole.': 4104, 'injury': 4105, 'ut': 4106, 'beaten': 4107, 'struck': 4108, 'came': 4109, 'new.': 4110, 'guess': 4111, 'scramble': 4112, 'representations': 4113, 'worrying': 4114, 'considerable': 4115, 'told': 4116, 'monster.': 4117, 'says': 4118, 'harness': 4119, 'solder': 4120, 'ermine': 4121, 'bloodcurdling': 4122, 'oil': 4123, 'unkind': 4124, 'see.': 4125, 'expense': 4126, 'mortals': 4127, 'hats': 4128, 'viewed': 4129, 'smile': 4130, 'looking': 4131, 'balanced': 4132, 'message': 4133, 'power': 4134, 'cheerfully': 4135, 'xxii.': 4136, 'polite': 4137, 'bank': 4138, 'sides': 4139, 'glimpse': 4140, 'great': 4141, 'wish': 4142, 'so.': 4143, 'now?': 4144, 'cause': 4145, 'stuffing': 4146, 'look!': 4147, 'fear!': 4148, 'drying': 4149, 'boq.': 4150, 'againor': 4151, 'fail': 4152, 'joyfully': 4153, 'rapidly': 4154, 'open': 4155, 'youngster': 4156, 'sheets': 4157, 'hurting': 4158, 'chattering': 4159, 'agree': 4160, 'horror': 4161, 'harmed.': 4162, 'choose': 4163, 'cow': 4164, 'ready': 4165, 'spots': 4166, 'needle': 4167, 'unless': 4168, 'luck': 4169, 'coarse': 4170, 'daisies': 4171, 'are.': 4172, 'plans': 4173, 'murmuring': 4174, 'king.': 4175, 'appearing': 4176, 'grass': 4177, 'expenses': 4178, 'sending': 4179, 'group': 4180, 'fairies': 4181, 'wear': 4182, 'lesson': 4183, 'landed': 4184, 'greengold': 4185, 'myself.': 4186, 'cruel': 4187, 'usual.': 4188, 'spinning': 4189, 'colored': 4190, 'corrupt': 4191, '1.c.': 4192, 'arise': 4193, 'generations': 4194, 'effort': 4195, 'shame.': 4196, 'church': 4197, 'compilation': 4198, 'chest': 4199, 'legally': 4200, 'knee': 4201, 'produce': 4202, 'crawling': 4203, 'somewhat': 4204, 'comrade': 4205, 'followed.': 4206, 'gloomy.': 4207, 'minutes': 4208, 'posted': 4209, 'as': 4210, 'whispered': 4211, 'women': 4212, 'weapon.': 4213, 'archive': 4214, 'counterpane.': 4215, 'feather.': 4216, 'tender': 4217, 'emptied': 4218, 'manly': 4219, 'same': 4220, 'b': 4221, 'she': 4222, 'at.': 4223, 'truth.': 4224, 'slats': 4225, 'shod': 4226, 'bed': 4227, 'visit.': 4228, 'holder': 4229, 'downstream': 4230, 'another': 4231, 'silvery': 4232, 'overheardand': 4233, 'licensed': 4234, 'distribute': 4235, 'played': 4236, 'evil.': 4237, 'others': 4238, 'notion': 4239, '801': 4240, 'engaged': 4241, 'tenderly.': 4242, 'full': 4243, 'fast': 4244, 'prompt': 4245, 'virus': 4246, 'morning': 4247, 'indeed!': 4248, 'please': 4249, 'eye': 4250, 'we': 4251, 'bricks.': 4252, 'anything?': 4253, 'forefoot.': 4254, 'clowns': 4255, 'is!': 4256, 'beautiful?': 4257, 'tricks': 4258, 'biggest': 4259, 'kinds': 4260, 'those': 4261, 'button': 4262, 'amuse': 4263, 'shapeless': 4264, 'provided': 4265, 'reaching': 4266, '<unk>': 4267, 'joined': 4268, 'shoes.': 4269, 'portal': 4270, 'joints.': 4271, 'whined': 4272, 'revenue': 4273, 'terribly': 4274, 'relieve': 4275, 'awful': 4276, 'watch.': 4277, 'itself': 4278, 'imagination': 4279, 'accordance': 4280, 'breast.': 4281, 'much': 4282, 'hes': 4283, 'approach': 4284}\n",
            "[1860, 3449, 3621, 1453, 3558, 1860, 3586, 1858, 3558, 1374, 3569, 1453, 3987, 221, 1860, 3417, 3558, 424, 3373, 542, 1860, 1657, 448, 4029, 2172, 32, 3496, 3558, 1860, 2060]\n"
          ]
        }
      ],
      "source": [
        "text = text.lower()\n",
        "\n",
        "#remove everything except for character 'w', white space 's', basic sent delimiters '?.!'\n",
        "text_clean = re.sub(r'[^\\w\\s\\.\\!\\?]', '', text)\n",
        "\n",
        "# # Tokenize by words or characters (your choice).\n",
        "text_tokens = text_clean.split()\n",
        "text_tokens.append(\"<unk>\")\n",
        "text_tokens.append(\"<pad>\")\n",
        "\n",
        "#- Build a vocabulary (map each unique word to an integer ID).\n",
        "vocab = list(set(text_tokens))\n",
        "vocab_size = len(vocab)\n",
        "\n",
        "print(vocab[:20])\n",
        "word2id = {word: i for i, word in enumerate(vocab)}\n",
        "print(word2id['exact'])\n",
        "print(word2id)\n",
        "text_input = [word2id[word] for word in text_tokens]\n",
        "print(text_input[:30])"
      ]
    },
    {
      "cell_type": "markdown",
      "metadata": {
        "id": "jbTZs3OiMMNy"
      },
      "source": [
        "## 3. Embedding Layer in Keras\n",
        "Below is a minimal example of defining an `Embedding` layer:\n",
        "```python\n",
        "from tensorflow.keras.layers import Embedding\n",
        "\n",
        "embedding_layer = Embedding(\n",
        "    input_dim=vocab_size,     # size of the vocabulary\n",
        "    output_dim=128,           # embedding vector dimension\n",
        "    input_length=sequence_length\n",
        ")\n",
        "```\n",
        "- This layer transforms integer-encoded sequences (word IDs) into dense vector embeddings.\n",
        "\n",
        "- Feed these embeddings into your LSTM or GRU OR 1D CNN layer."
      ]
    },
    {
      "cell_type": "code",
      "execution_count": 47,
      "metadata": {
        "id": "OXCK40l6MRld",
        "colab": {
          "base_uri": "https://localhost:8080/"
        },
        "outputId": "4b92f38d-fd2e-4195-b268-c7fa80eb2ccf"
      },
      "outputs": [
        {
          "output_type": "stream",
          "name": "stderr",
          "text": [
            "/usr/local/lib/python3.11/dist-packages/keras/src/layers/core/embedding.py:90: UserWarning: Argument `input_length` is deprecated. Just remove it.\n",
            "  warnings.warn(\n"
          ]
        }
      ],
      "source": [
        "from tensorflow.keras.layers import Embedding\n",
        "vocab_size = len(vocab)\n",
        "sequence_length = 20\n",
        "\n",
        "embedding_layer = Embedding(\n",
        "    input_dim=vocab_size,     # size of the vocabulary\n",
        "    output_dim=128,           # embedding vector dimension\n",
        "    input_length=sequence_length\n",
        ")"
      ]
    },
    {
      "cell_type": "markdown",
      "metadata": {
        "id": "qsXR4RZpMXMi"
      },
      "source": [
        "## 4. Model\n",
        "- Implement an LSTM or GRU or 1D CNN-based language model with:\n",
        "  - **The Embedding layer** as input.\n",
        "  - At least **one recurrent layer** (e.g., `LSTM(256)` or `GRU(256)` or your custom 1D CNN).\n",
        "  - A **Dense** output layer with **softmax** activation for word prediction.\n",
        "- Train for about **5–10 epochs** so it can finish in approximately **2 hours** on a standard machine.\n"
      ]
    },
    {
      "cell_type": "code",
      "source": [
        "from tensorflow.keras.layers import Dense,LSTM ,Dropout\n",
        "from tensorflow.keras.models import Sequential\n",
        "import numpy as np\n",
        "from sklearn import preprocessing\n",
        "\n",
        "from tensorflow.keras.utils import to_categorical\n",
        "import tensorflow.keras.backend as K"
      ],
      "metadata": {
        "id": "Ve1jB9VBlIKU"
      },
      "execution_count": 36,
      "outputs": []
    },
    {
      "cell_type": "code",
      "execution_count": 40,
      "metadata": {
        "id": "linweGaUMg0T"
      },
      "outputs": [],
      "source": [
        "\n",
        "model = Sequential()\n",
        "model.add(embedding_layer)\n",
        "model.add(LSTM(256, return_sequences=True))\n",
        "model.add(Dropout(0.2))\n",
        "model.add(LSTM(256))\n",
        "model.add(Dropout(0.2))\n",
        "model.add(Dense(vocab_size, activation='softmax'))"
      ]
    },
    {
      "cell_type": "markdown",
      "source": [
        "prepare X and Y"
      ],
      "metadata": {
        "id": "NUUMzTOXW7cK"
      }
    },
    {
      "cell_type": "code",
      "source": [
        "\n",
        "window_size = sequence_length\n",
        "\n",
        "data = np.array(text_input)\n",
        "\n",
        "X = []\n",
        "y = []\n",
        "for i in range(len(data)-window_size):\n",
        "    X.append(data[i:i+window_size])\n",
        "    y.append(data[i+window_size])\n",
        "X = np.asarray(X)\n",
        "y = np.asarray(y)\n",
        "print(\"X.shape\" , X.shape)\n",
        "print(\"y.shape\" , y.shape)\n",
        "\n",
        "split_index = int(train*len(X))\n",
        "\n",
        "X_train = X[:split_index]\n",
        "X_val = X[split_index:]\n",
        "\n",
        "y_train = y[:split_index]\n",
        "y_val = y[split_index:]\n",
        "\n",
        "print(\"X_train.shape\", X_train.shape)\n",
        "print(\"X_val.shape\", X_val.shape)\n",
        "print(\"y_train.shape\", y_train.shape)\n",
        "print(\"y_val.shape\", y_val.shape)\n",
        "\n",
        "\n",
        "assert X_train.shape[0] == y_train.shape[0]\n",
        "assert X_val.shape[0] == y_val.shape[0]"
      ],
      "metadata": {
        "colab": {
          "base_uri": "https://localhost:8080/"
        },
        "id": "kgWDUAXyW9WU",
        "outputId": "71b0be4f-8aa0-4df7-a3fa-9afbb1edf5df"
      },
      "execution_count": 30,
      "outputs": [
        {
          "output_type": "stream",
          "name": "stdout",
          "text": [
            "X.shape (42657, 20)\n",
            "y.shape (42657,)\n",
            "X_train.shape (34125, 20)\n",
            "X_val.shape (8532, 20)\n",
            "y_train.shape (34125,)\n",
            "y_val.shape (8532,)\n"
          ]
        }
      ]
    },
    {
      "cell_type": "code",
      "source": [
        "def perplexity(y_true, y_pred):\n",
        "    \"\"\"\n",
        "    Perplexity = e^cross_entropy\n",
        "    \"\"\"\n",
        "    y_true = tf.cast(y_true, tf.int32)\n",
        "\n",
        "    cross_entropy = K.mean(K.sparse_categorical_crossentropy(y_true, y_pred))\n",
        "    perplexity = K.exp(cross_entropy)  # Exponentiate to get perplexity\n",
        "    return perplexity"
      ],
      "metadata": {
        "id": "eIEEFtQhLqTy"
      },
      "execution_count": 42,
      "outputs": []
    },
    {
      "cell_type": "code",
      "source": [],
      "metadata": {
        "id": "PlEFx4nrtTBz"
      },
      "execution_count": 31,
      "outputs": []
    },
    {
      "cell_type": "code",
      "source": [
        "import tensorflow.keras.optimizers as optimizers\n",
        "\n",
        "opt = optimizers.Adam(learning_rate = 0.0001)"
      ],
      "metadata": {
        "id": "mwjQuuP9s3Gx"
      },
      "execution_count": 32,
      "outputs": []
    },
    {
      "cell_type": "code",
      "source": [
        "from tensorflow.keras.optimizers import Adam\n",
        "# Compile model\n",
        "model.compile(\n",
        "    loss='sparse_categorical_crossentropy',\n",
        "    optimizer = Adam(learning_rate = 0.0001),\n",
        "    metrics=[perplexity]\n",
        ")\n",
        "\n",
        "\n",
        "# X_train = X_train.reshape(X_train.shape[0], X_train.shape[1], 1)  # Adding a new dimension for embedding\n",
        "# X_val = X_val.reshape(X_val.shape[0], X_val.shape[1], 1)  # Adding a new dimension for embedding\n",
        "\n",
        "model.fit(\n",
        "    X_train, y_train,\n",
        "    validation_data=(X_val, y_val),\n",
        "    batch_size=64,\n",
        "    epochs=20\n",
        ")\n",
        "# # Train model and monitor validation loss\n",
        "# history = model.fit(\n",
        "#     X_train,\n",
        "#     y_train,\n",
        "#     epochs=15,\n",
        "#     batch_size=32,\n",
        "#     verbose=1,\n",
        "#     validation_data=(X_val, y_val)  # This enables val_loss and val_perplexity monitoring\n",
        "# )"
      ],
      "metadata": {
        "colab": {
          "base_uri": "https://localhost:8080/",
          "height": 1000
        },
        "id": "gZABv5H3Vfgx",
        "outputId": "55a1928d-aa72-46bb-cfa4-35a4a886be64"
      },
      "execution_count": 50,
      "outputs": [
        {
          "output_type": "stream",
          "name": "stdout",
          "text": [
            "Epoch 1/20\n"
          ]
        },
        {
          "output_type": "error",
          "ename": "InvalidArgumentError",
          "evalue": "Graph execution error:\n\nDetected at node sequential_2_1/lstm_4_1/while/TensorListPushBack_14 defined at (most recent call last):\n  File \"<frozen runpy>\", line 198, in _run_module_as_main\n\n  File \"<frozen runpy>\", line 88, in _run_code\n\n  File \"/usr/local/lib/python3.11/dist-packages/colab_kernel_launcher.py\", line 37, in <module>\n\n  File \"/usr/local/lib/python3.11/dist-packages/traitlets/config/application.py\", line 992, in launch_instance\n\n  File \"/usr/local/lib/python3.11/dist-packages/ipykernel/kernelapp.py\", line 712, in start\n\n  File \"/usr/local/lib/python3.11/dist-packages/tornado/platform/asyncio.py\", line 205, in start\n\n  File \"/usr/lib/python3.11/asyncio/base_events.py\", line 608, in run_forever\n\n  File \"/usr/lib/python3.11/asyncio/base_events.py\", line 1936, in _run_once\n\n  File \"/usr/lib/python3.11/asyncio/events.py\", line 84, in _run\n\n  File \"/usr/local/lib/python3.11/dist-packages/ipykernel/kernelbase.py\", line 510, in dispatch_queue\n\n  File \"/usr/local/lib/python3.11/dist-packages/ipykernel/kernelbase.py\", line 499, in process_one\n\n  File \"/usr/local/lib/python3.11/dist-packages/ipykernel/kernelbase.py\", line 406, in dispatch_shell\n\n  File \"/usr/local/lib/python3.11/dist-packages/ipykernel/kernelbase.py\", line 730, in execute_request\n\n  File \"/usr/local/lib/python3.11/dist-packages/ipykernel/ipkernel.py\", line 383, in do_execute\n\n  File \"/usr/local/lib/python3.11/dist-packages/ipykernel/zmqshell.py\", line 528, in run_cell\n\n  File \"/usr/local/lib/python3.11/dist-packages/IPython/core/interactiveshell.py\", line 2975, in run_cell\n\n  File \"/usr/local/lib/python3.11/dist-packages/IPython/core/interactiveshell.py\", line 3030, in _run_cell\n\n  File \"/usr/local/lib/python3.11/dist-packages/IPython/core/async_helpers.py\", line 78, in _pseudo_sync_runner\n\n  File \"/usr/local/lib/python3.11/dist-packages/IPython/core/interactiveshell.py\", line 3257, in run_cell_async\n\n  File \"/usr/local/lib/python3.11/dist-packages/IPython/core/interactiveshell.py\", line 3473, in run_ast_nodes\n\n  File \"/usr/local/lib/python3.11/dist-packages/IPython/core/interactiveshell.py\", line 3553, in run_code\n\n  File \"<ipython-input-50-da21cfa129c7>\", line 13, in <cell line: 0>\n\n  File \"/usr/local/lib/python3.11/dist-packages/keras/src/utils/traceback_utils.py\", line 117, in error_handler\n\n  File \"/usr/local/lib/python3.11/dist-packages/keras/src/backend/tensorflow/trainer.py\", line 371, in fit\n\n  File \"/usr/local/lib/python3.11/dist-packages/keras/src/backend/tensorflow/trainer.py\", line 219, in function\n\n  File \"/usr/local/lib/python3.11/dist-packages/keras/src/backend/tensorflow/trainer.py\", line 132, in multi_step_on_iterator\n\n  File \"/usr/local/lib/python3.11/dist-packages/keras/src/backend/tensorflow/trainer.py\", line 113, in one_step_on_data\n\n  File \"/usr/local/lib/python3.11/dist-packages/keras/src/backend/tensorflow/trainer.py\", line 77, in train_step\n\n  File \"/usr/local/lib/python3.11/dist-packages/tensorflow/core/function/capture/capture_container.py\", line 154, in capture_by_value\n\nTried to append a tensor with incompatible shape to a list. Op element shape: [0] list shape: [256,1024]\n\t [[{{node sequential_2_1/lstm_4_1/while/TensorListPushBack_14}}]] [Op:__inference_multi_step_on_iterator_28541]",
          "traceback": [
            "\u001b[0;31m---------------------------------------------------------------------------\u001b[0m",
            "\u001b[0;31mInvalidArgumentError\u001b[0m                      Traceback (most recent call last)",
            "\u001b[0;32m<ipython-input-50-da21cfa129c7>\u001b[0m in \u001b[0;36m<cell line: 0>\u001b[0;34m()\u001b[0m\n\u001b[1;32m     11\u001b[0m \u001b[0;31m# X_val = X_val.reshape(X_val.shape[0], X_val.shape[1], 1)  # Adding a new dimension for embedding\u001b[0m\u001b[0;34m\u001b[0m\u001b[0;34m\u001b[0m\u001b[0m\n\u001b[1;32m     12\u001b[0m \u001b[0;34m\u001b[0m\u001b[0m\n\u001b[0;32m---> 13\u001b[0;31m model.fit(\n\u001b[0m\u001b[1;32m     14\u001b[0m     \u001b[0mX_train\u001b[0m\u001b[0;34m,\u001b[0m \u001b[0my_train\u001b[0m\u001b[0;34m,\u001b[0m\u001b[0;34m\u001b[0m\u001b[0;34m\u001b[0m\u001b[0m\n\u001b[1;32m     15\u001b[0m     \u001b[0mvalidation_data\u001b[0m\u001b[0;34m=\u001b[0m\u001b[0;34m(\u001b[0m\u001b[0mX_val\u001b[0m\u001b[0;34m,\u001b[0m \u001b[0my_val\u001b[0m\u001b[0;34m)\u001b[0m\u001b[0;34m,\u001b[0m\u001b[0;34m\u001b[0m\u001b[0;34m\u001b[0m\u001b[0m\n",
            "\u001b[0;32m/usr/local/lib/python3.11/dist-packages/keras/src/utils/traceback_utils.py\u001b[0m in \u001b[0;36merror_handler\u001b[0;34m(*args, **kwargs)\u001b[0m\n\u001b[1;32m    120\u001b[0m             \u001b[0;31m# To get the full stack trace, call:\u001b[0m\u001b[0;34m\u001b[0m\u001b[0;34m\u001b[0m\u001b[0m\n\u001b[1;32m    121\u001b[0m             \u001b[0;31m# `keras.config.disable_traceback_filtering()`\u001b[0m\u001b[0;34m\u001b[0m\u001b[0;34m\u001b[0m\u001b[0m\n\u001b[0;32m--> 122\u001b[0;31m             \u001b[0;32mraise\u001b[0m \u001b[0me\u001b[0m\u001b[0;34m.\u001b[0m\u001b[0mwith_traceback\u001b[0m\u001b[0;34m(\u001b[0m\u001b[0mfiltered_tb\u001b[0m\u001b[0;34m)\u001b[0m \u001b[0;32mfrom\u001b[0m \u001b[0;32mNone\u001b[0m\u001b[0;34m\u001b[0m\u001b[0;34m\u001b[0m\u001b[0m\n\u001b[0m\u001b[1;32m    123\u001b[0m         \u001b[0;32mfinally\u001b[0m\u001b[0;34m:\u001b[0m\u001b[0;34m\u001b[0m\u001b[0;34m\u001b[0m\u001b[0m\n\u001b[1;32m    124\u001b[0m             \u001b[0;32mdel\u001b[0m \u001b[0mfiltered_tb\u001b[0m\u001b[0;34m\u001b[0m\u001b[0;34m\u001b[0m\u001b[0m\n",
            "\u001b[0;32m/usr/local/lib/python3.11/dist-packages/tensorflow/python/eager/execute.py\u001b[0m in \u001b[0;36mquick_execute\u001b[0;34m(op_name, num_outputs, inputs, attrs, ctx, name)\u001b[0m\n\u001b[1;32m     57\u001b[0m       \u001b[0me\u001b[0m\u001b[0;34m.\u001b[0m\u001b[0mmessage\u001b[0m \u001b[0;34m+=\u001b[0m \u001b[0;34m\" name: \"\u001b[0m \u001b[0;34m+\u001b[0m \u001b[0mname\u001b[0m\u001b[0;34m\u001b[0m\u001b[0;34m\u001b[0m\u001b[0m\n\u001b[1;32m     58\u001b[0m     \u001b[0;32mraise\u001b[0m \u001b[0mcore\u001b[0m\u001b[0;34m.\u001b[0m\u001b[0m_status_to_exception\u001b[0m\u001b[0;34m(\u001b[0m\u001b[0me\u001b[0m\u001b[0;34m)\u001b[0m \u001b[0;32mfrom\u001b[0m \u001b[0;32mNone\u001b[0m\u001b[0;34m\u001b[0m\u001b[0;34m\u001b[0m\u001b[0m\n\u001b[0;32m---> 59\u001b[0;31m   \u001b[0;32mexcept\u001b[0m \u001b[0mTypeError\u001b[0m \u001b[0;32mas\u001b[0m \u001b[0me\u001b[0m\u001b[0;34m:\u001b[0m\u001b[0;34m\u001b[0m\u001b[0;34m\u001b[0m\u001b[0m\n\u001b[0m\u001b[1;32m     60\u001b[0m     \u001b[0mkeras_symbolic_tensors\u001b[0m \u001b[0;34m=\u001b[0m \u001b[0;34m[\u001b[0m\u001b[0mx\u001b[0m \u001b[0;32mfor\u001b[0m \u001b[0mx\u001b[0m \u001b[0;32min\u001b[0m \u001b[0minputs\u001b[0m \u001b[0;32mif\u001b[0m \u001b[0m_is_keras_symbolic_tensor\u001b[0m\u001b[0;34m(\u001b[0m\u001b[0mx\u001b[0m\u001b[0;34m)\u001b[0m\u001b[0;34m]\u001b[0m\u001b[0;34m\u001b[0m\u001b[0;34m\u001b[0m\u001b[0m\n\u001b[1;32m     61\u001b[0m     \u001b[0;32mif\u001b[0m \u001b[0mkeras_symbolic_tensors\u001b[0m\u001b[0;34m:\u001b[0m\u001b[0;34m\u001b[0m\u001b[0;34m\u001b[0m\u001b[0m\n",
            "\u001b[0;31mInvalidArgumentError\u001b[0m: Graph execution error:\n\nDetected at node sequential_2_1/lstm_4_1/while/TensorListPushBack_14 defined at (most recent call last):\n  File \"<frozen runpy>\", line 198, in _run_module_as_main\n\n  File \"<frozen runpy>\", line 88, in _run_code\n\n  File \"/usr/local/lib/python3.11/dist-packages/colab_kernel_launcher.py\", line 37, in <module>\n\n  File \"/usr/local/lib/python3.11/dist-packages/traitlets/config/application.py\", line 992, in launch_instance\n\n  File \"/usr/local/lib/python3.11/dist-packages/ipykernel/kernelapp.py\", line 712, in start\n\n  File \"/usr/local/lib/python3.11/dist-packages/tornado/platform/asyncio.py\", line 205, in start\n\n  File \"/usr/lib/python3.11/asyncio/base_events.py\", line 608, in run_forever\n\n  File \"/usr/lib/python3.11/asyncio/base_events.py\", line 1936, in _run_once\n\n  File \"/usr/lib/python3.11/asyncio/events.py\", line 84, in _run\n\n  File \"/usr/local/lib/python3.11/dist-packages/ipykernel/kernelbase.py\", line 510, in dispatch_queue\n\n  File \"/usr/local/lib/python3.11/dist-packages/ipykernel/kernelbase.py\", line 499, in process_one\n\n  File \"/usr/local/lib/python3.11/dist-packages/ipykernel/kernelbase.py\", line 406, in dispatch_shell\n\n  File \"/usr/local/lib/python3.11/dist-packages/ipykernel/kernelbase.py\", line 730, in execute_request\n\n  File \"/usr/local/lib/python3.11/dist-packages/ipykernel/ipkernel.py\", line 383, in do_execute\n\n  File \"/usr/local/lib/python3.11/dist-packages/ipykernel/zmqshell.py\", line 528, in run_cell\n\n  File \"/usr/local/lib/python3.11/dist-packages/IPython/core/interactiveshell.py\", line 2975, in run_cell\n\n  File \"/usr/local/lib/python3.11/dist-packages/IPython/core/interactiveshell.py\", line 3030, in _run_cell\n\n  File \"/usr/local/lib/python3.11/dist-packages/IPython/core/async_helpers.py\", line 78, in _pseudo_sync_runner\n\n  File \"/usr/local/lib/python3.11/dist-packages/IPython/core/interactiveshell.py\", line 3257, in run_cell_async\n\n  File \"/usr/local/lib/python3.11/dist-packages/IPython/core/interactiveshell.py\", line 3473, in run_ast_nodes\n\n  File \"/usr/local/lib/python3.11/dist-packages/IPython/core/interactiveshell.py\", line 3553, in run_code\n\n  File \"<ipython-input-50-da21cfa129c7>\", line 13, in <cell line: 0>\n\n  File \"/usr/local/lib/python3.11/dist-packages/keras/src/utils/traceback_utils.py\", line 117, in error_handler\n\n  File \"/usr/local/lib/python3.11/dist-packages/keras/src/backend/tensorflow/trainer.py\", line 371, in fit\n\n  File \"/usr/local/lib/python3.11/dist-packages/keras/src/backend/tensorflow/trainer.py\", line 219, in function\n\n  File \"/usr/local/lib/python3.11/dist-packages/keras/src/backend/tensorflow/trainer.py\", line 132, in multi_step_on_iterator\n\n  File \"/usr/local/lib/python3.11/dist-packages/keras/src/backend/tensorflow/trainer.py\", line 113, in one_step_on_data\n\n  File \"/usr/local/lib/python3.11/dist-packages/keras/src/backend/tensorflow/trainer.py\", line 77, in train_step\n\n  File \"/usr/local/lib/python3.11/dist-packages/tensorflow/core/function/capture/capture_container.py\", line 154, in capture_by_value\n\nTried to append a tensor with incompatible shape to a list. Op element shape: [0] list shape: [256,1024]\n\t [[{{node sequential_2_1/lstm_4_1/while/TensorListPushBack_14}}]] [Op:__inference_multi_step_on_iterator_28541]"
          ]
        }
      ]
    },
    {
      "cell_type": "markdown",
      "metadata": {
        "id": "Ggop4h4IMhMT"
      },
      "source": [
        "## 5. Training & Evaluation\n",
        "- **Monitor** the loss on both training and validation sets.\n",
        "- **Perplexity**: a common metric for language models.\n",
        "  - It is the exponent of the average negative log-likelihood.\n",
        "  - If your model outputs cross-entropy loss `H`, then `perplexity = e^H`.\n",
        "  - Try to keep the validation perplexity **under 50** if possible. If you have higher value (which is possible) try to draw conclusions, why doesn't it decrease to a lower value."
      ]
    },
    {
      "cell_type": "code",
      "execution_count": null,
      "metadata": {
        "id": "P8d8FS2XMj46"
      },
      "outputs": [],
      "source": []
    },
    {
      "cell_type": "markdown",
      "metadata": {
        "id": "cbvbBOp3MfTD"
      },
      "source": [
        "## 6. Generation Criteria\n",
        "- After training, generate **two distinct text samples**, each at least **50 tokens**.\n",
        "- Use **different seed phrases** (e.g., “love is” vs. “time will”)."
      ]
    },
    {
      "cell_type": "code",
      "execution_count": 48,
      "metadata": {
        "id": "1uHjn6aHMW5K"
      },
      "outputs": [],
      "source": [
        "id2word = {idx: word for word, idx in word2id.items()}\n",
        "if \"<unk>\" not in word2id:\n",
        "    word2id[\"<unk>\"] = len(word2id)\n",
        "    id2word[len(id2word)] = \"<unk>\"\n",
        "if \"<pad>\" not in word2id:\n",
        "    word2id[\"<pad>\"] = len(word2id)\n",
        "    id2word[len(id2word)] = \"<pad>\"\n",
        "\n",
        "def generate(seed, model, word2id, id2word, window_size=20, num_words=50):\n",
        "    seed = seed.lower()\n",
        "    seed_tokens = re.sub(r'[^\\w\\s\\.\\!\\?]', '', seed).split()\n",
        "    seed_ids = [word2id.get(word, word2id[\"<unk>\"]) for word in seed_tokens]  # Use <unk> for unknowns\n",
        "\n",
        "    # Pad or truncate seed to match window size\n",
        "    while len(seed_ids) < window_size:\n",
        "        seed_ids.insert(0, word2id[\"<pad>\"])  # add pading to fit windowsize\n",
        "    seed_ids = seed_ids[-window_size:]\n",
        "\n",
        "    generated = seed_tokens.copy()\n",
        "\n",
        "    for _ in range(num_words):\n",
        "        input_seq = np.array(seed_ids).reshape(1, -1)  # shape (1, window_size)\n",
        "\n",
        "        # Predict next word\n",
        "        preds = model.predict(input_seq, verbose=0)\n",
        "        next_id = np.argmax(preds[0])  # Greedy sampling, can also try temperature sampling\n",
        "\n",
        "        next_word = id2word.get(next_id, \"<unk>\")\n",
        "        generated.append(next_word)\n",
        "\n",
        "        # Update seed_ids\n",
        "        seed_ids.append(next_id)\n",
        "        seed_ids = seed_ids[1:]\n",
        "\n",
        "    return \" \".join(generated)"
      ]
    },
    {
      "cell_type": "code",
      "execution_count": 49,
      "metadata": {
        "id": "n5CpdqF9MoPj",
        "colab": {
          "base_uri": "https://localhost:8080/",
          "height": 125
        },
        "outputId": "11ac5ac0-9dd5-4759-e3b9-94406c8f438d"
      },
      "outputs": [
        {
          "output_type": "execute_result",
          "data": {
            "text/plain": [
              "'love is created id double accusations recovering refusal dog whereabouts damaged damaged portfolio rumour millions rumour ventured. chair. estate waiting schraeders michaelis catholic emotion consciously consciously win. fashion convinced country country ivory. gutenbergs monkey. ticket slight now nod threw matters. kissed waiter unprotected flow located mastered mastered mastered wasnt hope. suggested suggested'"
            ],
            "application/vnd.google.colaboratory.intrinsic+json": {
              "type": "string"
            }
          },
          "metadata": {},
          "execution_count": 49
        }
      ],
      "source": [
        "generate(\"love is\", model, word2id, id2word, window_size=20, num_words=50)"
      ]
    },
    {
      "cell_type": "code",
      "source": [],
      "metadata": {
        "id": "ysLyAx6VV8iV"
      },
      "execution_count": null,
      "outputs": []
    }
  ],
  "metadata": {
    "colab": {
      "provenance": [],
      "include_colab_link": true
    },
    "kernelspec": {
      "display_name": "Python 3",
      "name": "python3"
    },
    "language_info": {
      "name": "python"
    }
  },
  "nbformat": 4,
  "nbformat_minor": 0
}